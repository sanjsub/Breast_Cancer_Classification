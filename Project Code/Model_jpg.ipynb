{
 "cells": [
  {
   "cell_type": "markdown",
   "metadata": {},
   "source": [
    "## Model"
   ]
  },
  {
   "cell_type": "code",
   "execution_count": 1,
   "metadata": {},
   "outputs": [],
   "source": [
    "import torch\n",
    "import pandas as pd\n",
    "import numpy as np\n",
    "import matplotlib, matplotlib.pyplot as plt\n",
    "from PIL import Image \n",
    "from skimage import io\n",
    "from torch import nn\n",
    "from torch.utils.data import Dataset, DataLoader\n",
    "from torch.utils.data.sampler import WeightedRandomSampler\n",
    "import torchvision.transforms as transforms\n",
    "import torch.optim as optim\n",
    "import time\n",
    "import torch.nn.functional as F\n",
    "import random\n",
    "from sklearn.metrics import roc_auc_score, average_precision_score, precision_recall_curve\n",
    "\n",
    "\n",
    "if torch.cuda.is_available:\n",
    "    device = torch.device('cuda')\n",
    "else:\n",
    "    device = torch.device('cpu')\n",
    "    \n",
    "def setup_seed(seed): \n",
    "    torch.manual_seed(seed) \n",
    "    torch.cuda.manual_seed_all(seed) \n",
    "    np.random.seed(seed) \n",
    "    random.seed(seed) \n",
    "    torch.backends.cudnn.deterministic = True\n",
    "    return None\n",
    "setup_seed(0)"
   ]
  },
  {
   "cell_type": "markdown",
   "metadata": {},
   "source": [
    "### Train Val Test Split"
   ]
  },
  {
   "cell_type": "code",
   "execution_count": 5,
   "metadata": {},
   "outputs": [
    {
     "name": "stdout",
     "output_type": "stream",
     "text": [
      "12903\n"
     ]
    },
    {
     "data": {
      "text/html": [
       "<div>\n",
       "<style scoped>\n",
       "    .dataframe tbody tr th:only-of-type {\n",
       "        vertical-align: middle;\n",
       "    }\n",
       "\n",
       "    .dataframe tbody tr th {\n",
       "        vertical-align: top;\n",
       "    }\n",
       "\n",
       "    .dataframe thead th {\n",
       "        text-align: right;\n",
       "    }\n",
       "</style>\n",
       "<table border=\"1\" class=\"dataframe\">\n",
       "  <thead>\n",
       "    <tr style=\"text-align: right;\">\n",
       "      <th></th>\n",
       "      <th>Unnamed: 0</th>\n",
       "      <th>PatientID</th>\n",
       "      <th>StudyUID</th>\n",
       "      <th>Label</th>\n",
       "      <th>View</th>\n",
       "      <th>descriptive_path</th>\n",
       "      <th>classic_path</th>\n",
       "      <th>new_path</th>\n",
       "    </tr>\n",
       "  </thead>\n",
       "  <tbody>\n",
       "    <tr>\n",
       "      <th>0</th>\n",
       "      <td>0</td>\n",
       "      <td>DBT-P02497</td>\n",
       "      <td>DBT-S00143</td>\n",
       "      <td>0</td>\n",
       "      <td>lcc</td>\n",
       "      <td>Breast-Cancer-Screening-DBT/DBT-P02497/01-01-2...</td>\n",
       "      <td>Breast-Cancer-Screening-DBT/DBT-P02497/1.2.826...</td>\n",
       "      <td>Breast-Cancer-Screening-DBT/DBT-P02497/01-01-2...</td>\n",
       "    </tr>\n",
       "    <tr>\n",
       "      <th>1</th>\n",
       "      <td>1</td>\n",
       "      <td>DBT-P02497</td>\n",
       "      <td>DBT-S00143</td>\n",
       "      <td>0</td>\n",
       "      <td>lmlo</td>\n",
       "      <td>Breast-Cancer-Screening-DBT/DBT-P02497/01-01-2...</td>\n",
       "      <td>Breast-Cancer-Screening-DBT/DBT-P02497/1.2.826...</td>\n",
       "      <td>Breast-Cancer-Screening-DBT/DBT-P02497/01-01-2...</td>\n",
       "    </tr>\n",
       "    <tr>\n",
       "      <th>2</th>\n",
       "      <td>2</td>\n",
       "      <td>DBT-P02497</td>\n",
       "      <td>DBT-S00143</td>\n",
       "      <td>0</td>\n",
       "      <td>rcc</td>\n",
       "      <td>Breast-Cancer-Screening-DBT/DBT-P02497/01-01-2...</td>\n",
       "      <td>Breast-Cancer-Screening-DBT/DBT-P02497/1.2.826...</td>\n",
       "      <td>Breast-Cancer-Screening-DBT/DBT-P02497/01-01-2...</td>\n",
       "    </tr>\n",
       "    <tr>\n",
       "      <th>3</th>\n",
       "      <td>3</td>\n",
       "      <td>DBT-P02497</td>\n",
       "      <td>DBT-S00143</td>\n",
       "      <td>0</td>\n",
       "      <td>rmlo</td>\n",
       "      <td>Breast-Cancer-Screening-DBT/DBT-P02497/01-01-2...</td>\n",
       "      <td>Breast-Cancer-Screening-DBT/DBT-P02497/1.2.826...</td>\n",
       "      <td>Breast-Cancer-Screening-DBT/DBT-P02497/01-01-2...</td>\n",
       "    </tr>\n",
       "    <tr>\n",
       "      <th>4</th>\n",
       "      <td>4</td>\n",
       "      <td>DBT-P02449</td>\n",
       "      <td>DBT-S05000</td>\n",
       "      <td>0</td>\n",
       "      <td>lcc</td>\n",
       "      <td>Breast-Cancer-Screening-DBT/DBT-P02449/01-01-2...</td>\n",
       "      <td>Breast-Cancer-Screening-DBT/DBT-P02449/1.2.826...</td>\n",
       "      <td>Breast-Cancer-Screening-DBT/DBT-P02449/01-01-2...</td>\n",
       "    </tr>\n",
       "  </tbody>\n",
       "</table>\n",
       "</div>"
      ],
      "text/plain": [
       "   Unnamed: 0   PatientID    StudyUID  Label  View  \\\n",
       "0           0  DBT-P02497  DBT-S00143      0   lcc   \n",
       "1           1  DBT-P02497  DBT-S00143      0  lmlo   \n",
       "2           2  DBT-P02497  DBT-S00143      0   rcc   \n",
       "3           3  DBT-P02497  DBT-S00143      0  rmlo   \n",
       "4           4  DBT-P02449  DBT-S05000      0   lcc   \n",
       "\n",
       "                                    descriptive_path  \\\n",
       "0  Breast-Cancer-Screening-DBT/DBT-P02497/01-01-2...   \n",
       "1  Breast-Cancer-Screening-DBT/DBT-P02497/01-01-2...   \n",
       "2  Breast-Cancer-Screening-DBT/DBT-P02497/01-01-2...   \n",
       "3  Breast-Cancer-Screening-DBT/DBT-P02497/01-01-2...   \n",
       "4  Breast-Cancer-Screening-DBT/DBT-P02449/01-01-2...   \n",
       "\n",
       "                                        classic_path  \\\n",
       "0  Breast-Cancer-Screening-DBT/DBT-P02497/1.2.826...   \n",
       "1  Breast-Cancer-Screening-DBT/DBT-P02497/1.2.826...   \n",
       "2  Breast-Cancer-Screening-DBT/DBT-P02497/1.2.826...   \n",
       "3  Breast-Cancer-Screening-DBT/DBT-P02497/1.2.826...   \n",
       "4  Breast-Cancer-Screening-DBT/DBT-P02449/1.2.826...   \n",
       "\n",
       "                                            new_path  \n",
       "0  Breast-Cancer-Screening-DBT/DBT-P02497/01-01-2...  \n",
       "1  Breast-Cancer-Screening-DBT/DBT-P02497/01-01-2...  \n",
       "2  Breast-Cancer-Screening-DBT/DBT-P02497/01-01-2...  \n",
       "3  Breast-Cancer-Screening-DBT/DBT-P02497/01-01-2...  \n",
       "4  Breast-Cancer-Screening-DBT/DBT-P02449/01-01-2...  "
      ]
     },
     "execution_count": 5,
     "metadata": {},
     "output_type": "execute_result"
    }
   ],
   "source": [
    "train_df = pd.read_csv('DBT_train_resized.csv')\n",
    "print(len(train_df))\n",
    "train_df.head()"
   ]
  },
  {
   "cell_type": "code",
   "execution_count": 6,
   "metadata": {},
   "outputs": [
    {
     "name": "stdout",
     "output_type": "stream",
     "text": [
      "3686\n"
     ]
    },
    {
     "data": {
      "text/html": [
       "<div>\n",
       "<style scoped>\n",
       "    .dataframe tbody tr th:only-of-type {\n",
       "        vertical-align: middle;\n",
       "    }\n",
       "\n",
       "    .dataframe tbody tr th {\n",
       "        vertical-align: top;\n",
       "    }\n",
       "\n",
       "    .dataframe thead th {\n",
       "        text-align: right;\n",
       "    }\n",
       "</style>\n",
       "<table border=\"1\" class=\"dataframe\">\n",
       "  <thead>\n",
       "    <tr style=\"text-align: right;\">\n",
       "      <th></th>\n",
       "      <th>Unnamed: 0</th>\n",
       "      <th>PatientID</th>\n",
       "      <th>StudyUID</th>\n",
       "      <th>Label</th>\n",
       "      <th>View</th>\n",
       "      <th>descriptive_path</th>\n",
       "      <th>classic_path</th>\n",
       "      <th>new_path</th>\n",
       "    </tr>\n",
       "  </thead>\n",
       "  <tbody>\n",
       "    <tr>\n",
       "      <th>0</th>\n",
       "      <td>0</td>\n",
       "      <td>DBT-P00665</td>\n",
       "      <td>DBT-S02237</td>\n",
       "      <td>0</td>\n",
       "      <td>lcc</td>\n",
       "      <td>Breast-Cancer-Screening-DBT/DBT-P00665/01-01-2...</td>\n",
       "      <td>Breast-Cancer-Screening-DBT/DBT-P00665/1.2.826...</td>\n",
       "      <td>Breast-Cancer-Screening-DBT/DBT-P00665/01-01-2...</td>\n",
       "    </tr>\n",
       "    <tr>\n",
       "      <th>1</th>\n",
       "      <td>1</td>\n",
       "      <td>DBT-P00665</td>\n",
       "      <td>DBT-S02237</td>\n",
       "      <td>0</td>\n",
       "      <td>lmlo</td>\n",
       "      <td>Breast-Cancer-Screening-DBT/DBT-P00665/01-01-2...</td>\n",
       "      <td>Breast-Cancer-Screening-DBT/DBT-P00665/1.2.826...</td>\n",
       "      <td>Breast-Cancer-Screening-DBT/DBT-P00665/01-01-2...</td>\n",
       "    </tr>\n",
       "    <tr>\n",
       "      <th>2</th>\n",
       "      <td>2</td>\n",
       "      <td>DBT-P00665</td>\n",
       "      <td>DBT-S02237</td>\n",
       "      <td>0</td>\n",
       "      <td>rcc</td>\n",
       "      <td>Breast-Cancer-Screening-DBT/DBT-P00665/01-01-2...</td>\n",
       "      <td>Breast-Cancer-Screening-DBT/DBT-P00665/1.2.826...</td>\n",
       "      <td>Breast-Cancer-Screening-DBT/DBT-P00665/01-01-2...</td>\n",
       "    </tr>\n",
       "    <tr>\n",
       "      <th>3</th>\n",
       "      <td>3</td>\n",
       "      <td>DBT-P00665</td>\n",
       "      <td>DBT-S02237</td>\n",
       "      <td>0</td>\n",
       "      <td>rmlo</td>\n",
       "      <td>Breast-Cancer-Screening-DBT/DBT-P00665/01-01-2...</td>\n",
       "      <td>Breast-Cancer-Screening-DBT/DBT-P00665/1.2.826...</td>\n",
       "      <td>Breast-Cancer-Screening-DBT/DBT-P00665/01-01-2...</td>\n",
       "    </tr>\n",
       "    <tr>\n",
       "      <th>4</th>\n",
       "      <td>4</td>\n",
       "      <td>DBT-P00202</td>\n",
       "      <td>DBT-S04605</td>\n",
       "      <td>0</td>\n",
       "      <td>lcc</td>\n",
       "      <td>Breast-Cancer-Screening-DBT/DBT-P00202/01-01-2...</td>\n",
       "      <td>Breast-Cancer-Screening-DBT/DBT-P00202/1.2.826...</td>\n",
       "      <td>Breast-Cancer-Screening-DBT/DBT-P00202/01-01-2...</td>\n",
       "    </tr>\n",
       "  </tbody>\n",
       "</table>\n",
       "</div>"
      ],
      "text/plain": [
       "   Unnamed: 0   PatientID    StudyUID  Label  View  \\\n",
       "0           0  DBT-P00665  DBT-S02237      0   lcc   \n",
       "1           1  DBT-P00665  DBT-S02237      0  lmlo   \n",
       "2           2  DBT-P00665  DBT-S02237      0   rcc   \n",
       "3           3  DBT-P00665  DBT-S02237      0  rmlo   \n",
       "4           4  DBT-P00202  DBT-S04605      0   lcc   \n",
       "\n",
       "                                    descriptive_path  \\\n",
       "0  Breast-Cancer-Screening-DBT/DBT-P00665/01-01-2...   \n",
       "1  Breast-Cancer-Screening-DBT/DBT-P00665/01-01-2...   \n",
       "2  Breast-Cancer-Screening-DBT/DBT-P00665/01-01-2...   \n",
       "3  Breast-Cancer-Screening-DBT/DBT-P00665/01-01-2...   \n",
       "4  Breast-Cancer-Screening-DBT/DBT-P00202/01-01-2...   \n",
       "\n",
       "                                        classic_path  \\\n",
       "0  Breast-Cancer-Screening-DBT/DBT-P00665/1.2.826...   \n",
       "1  Breast-Cancer-Screening-DBT/DBT-P00665/1.2.826...   \n",
       "2  Breast-Cancer-Screening-DBT/DBT-P00665/1.2.826...   \n",
       "3  Breast-Cancer-Screening-DBT/DBT-P00665/1.2.826...   \n",
       "4  Breast-Cancer-Screening-DBT/DBT-P00202/1.2.826...   \n",
       "\n",
       "                                            new_path  \n",
       "0  Breast-Cancer-Screening-DBT/DBT-P00665/01-01-2...  \n",
       "1  Breast-Cancer-Screening-DBT/DBT-P00665/01-01-2...  \n",
       "2  Breast-Cancer-Screening-DBT/DBT-P00665/01-01-2...  \n",
       "3  Breast-Cancer-Screening-DBT/DBT-P00665/01-01-2...  \n",
       "4  Breast-Cancer-Screening-DBT/DBT-P00202/01-01-2...  "
      ]
     },
     "execution_count": 6,
     "metadata": {},
     "output_type": "execute_result"
    }
   ],
   "source": [
    "val_df = pd.read_csv('DBT_val_resized.csv')\n",
    "print(len(val_df))\n",
    "val_df.head()"
   ]
  },
  {
   "cell_type": "code",
   "execution_count": 7,
   "metadata": {},
   "outputs": [
    {
     "name": "stdout",
     "output_type": "stream",
     "text": [
      "Number of biopsied samples: 143\n",
      "Number of normal samples: 12760\n",
      "Disease Ratio: 0.011082693947144074\n"
     ]
    }
   ],
   "source": [
    "print('Number of biopsied samples:', np.sum(train_df['Label'].values))\n",
    "print('Number of normal samples:', len(train_df) - np.sum(train_df['Label'].values))\n",
    "disease_ratio = np.sum(train_df['Label'].values) / len(train_df)\n",
    "print('Disease Ratio:', disease_ratio)"
   ]
  },
  {
   "cell_type": "code",
   "execution_count": 8,
   "metadata": {},
   "outputs": [],
   "source": [
    "# Set up WeightedRandomSampler\n",
    "labels = np.array(train_df['Label'])\n",
    "labels = labels.astype(int)\n",
    "majority_weight = len(train_df) - np.sum(train_df['Label'].values)\n",
    "minority_weight = np.sum(train_df['Label'].values)\n",
    "sample_weights = np.array([majority_weight, minority_weight])\n",
    "weights = sample_weights[labels]\n",
    "sampler = WeightedRandomSampler(weights=weights, num_samples=50, replacement=True)"
   ]
  },
  {
   "cell_type": "markdown",
   "metadata": {},
   "source": [
    "### Data Loader"
   ]
  },
  {
   "cell_type": "code",
   "execution_count": 9,
   "metadata": {},
   "outputs": [],
   "source": [
    "train_transform = transforms.Compose([])\n",
    "train_transform.transforms.append(transforms.ToTensor())\n",
    "train_transform.transforms.append(transforms.Resize((224,224)))\n",
    "\n",
    "test_transform = transforms.Compose([])\n",
    "test_transform.transforms.append(transforms.ToTensor())\n",
    "test_transform.transforms.append(transforms.Resize((224,224)))\n",
    "\n",
    "class DBT_Dataset(Dataset):\n",
    "    def __init__(self, df_path, train = False):\n",
    "        self.df = pd.read_csv(df_path)\n",
    "        self.train = train\n",
    "        \n",
    "    def __len__(self):\n",
    "        return len(self.df)\n",
    "    \n",
    "    def __getitem__(self, idx):\n",
    "        image_name = self.df.iloc[idx, -1]\n",
    "        image = io.imread(image_name,as_gray=True)\n",
    "        image = image.astype(float)\n",
    "        \n",
    "        # Normalization\n",
    "        image -= np.mean(image)\n",
    "        image /= np.maximum(np.std(image), 10**(-5))\n",
    "        \n",
    "        if self.train:\n",
    "            image_tensor = train_transform(image)\n",
    "        else:\n",
    "            image_tensor = test_transform(image)\n",
    "            \n",
    "       \n",
    "        label = self.df['Label'].iloc[idx]\n",
    "        label = torch.tensor(label, dtype=torch.long)\n",
    "        sample = {'x': image_tensor.float(),'y': label}\n",
    "\n",
    "        return sample"
   ]
  },
  {
   "cell_type": "code",
   "execution_count": 15,
   "metadata": {},
   "outputs": [
    {
     "name": "stderr",
     "output_type": "stream",
     "text": [
      "/ext3/miniconda3/lib/python3.9/site-packages/torch/utils/data/dataloader.py:478: UserWarning: This DataLoader will create 8 worker processes in total. Our suggested max number of worker in current system is 1, which is smaller than what this DataLoader is going to create. Please be aware that excessive worker creation might get DataLoader running slow or even freeze, lower the worker number to avoid potential slowness/freeze if necessary.\n",
      "  warnings.warn(_create_warning_msg(\n",
      "/ext3/miniconda3/lib/python3.9/site-packages/torch/utils/data/dataloader.py:478: UserWarning: This DataLoader will create 8 worker processes in total. Our suggested max number of worker in current system is 1, which is smaller than what this DataLoader is going to create. Please be aware that excessive worker creation might get DataLoader running slow or even freeze, lower the worker number to avoid potential slowness/freeze if necessary.\n",
      "  warnings.warn(_create_warning_msg(\n",
      "/ext3/miniconda3/lib/python3.9/site-packages/torch/utils/data/dataloader.py:478: UserWarning: This DataLoader will create 8 worker processes in total. Our suggested max number of worker in current system is 1, which is smaller than what this DataLoader is going to create. Please be aware that excessive worker creation might get DataLoader running slow or even freeze, lower the worker number to avoid potential slowness/freeze if necessary.\n",
      "  warnings.warn(_create_warning_msg(\n"
     ]
    }
   ],
   "source": [
    "train_df_path = 'DBT_train_resized.csv'\n",
    "val_df_path = 'DBT_val_resized.csv'\n",
    "test_df_path = 'DBT_test_resized.csv'\n",
    "bs = 16\n",
    "\n",
    "train_loader = DataLoader(DBT_Dataset(train_df_path,train = True), batch_size=bs, \\\n",
    "                          shuffle=True, num_workers=8, pin_memory=True)\n",
    "# train_loader = DataLoader(DBT_Dataset(train_df_path,train = True), batch_size=bs, \\\n",
    "#                           num_workers=8, pin_memory=True, sampler=sampler)\n",
    "val_loader = DataLoader(DBT_Dataset(val_df_path), batch_size=bs, shuffle=False, num_workers=8, pin_memory=True)\n",
    "test_loader = DataLoader(DBT_Dataset(test_df_path), batch_size=bs, shuffle=False, num_workers=8, pin_memory=True)"
   ]
  },
  {
   "cell_type": "markdown",
   "metadata": {},
   "source": [
    "### Training"
   ]
  },
  {
   "cell_type": "code",
   "execution_count": 16,
   "metadata": {},
   "outputs": [],
   "source": [
    "def train_fun(model, train_loader=train_loader, val_loader=val_loader, learning_rate=1e-5, \\\n",
    "              num_epoch=100, save_name='model'):\n",
    "    start_time = time.time()\n",
    "    \n",
    "    optimizer = optim.Adam(model.parameters(),lr=learning_rate, weight_decay=1)\n",
    "    scheduler = optim.lr_scheduler.CosineAnnealingLR(optimizer, num_epoch)\n",
    "    \n",
    "\n",
    "    distribution = torch.FloatTensor([1-disease_ratio, disease_ratio]).to(device)\n",
    "    loss_fn = nn.CrossEntropyLoss(weight=distribution)\n",
    "#     loss_fn = nn.CrossEntropyLoss()    # use with WeightedRandomSampler\n",
    "    \n",
    "    train_loss_return = []\n",
    "    train_acc_return = []\n",
    "    val_loss_return = []\n",
    "    val_acc_return = []\n",
    "    \n",
    "    best_acc = -1\n",
    "    \n",
    "    # Train\n",
    "    for epoch in range(num_epoch):\n",
    "        pred_list = []\n",
    "        pred_scores_list = []\n",
    "        truths_list = []\n",
    "        loss_list = []\n",
    "        model.train()\n",
    "        for i, (sample) in enumerate(train_loader):\n",
    "            image = sample['x'].to(device)\n",
    "            labels = sample['y'].to(device)    \n",
    "            outputs = model(image)\n",
    "            model.zero_grad()\n",
    "            loss = loss_fn(outputs, labels)\n",
    "            loss.backward()\n",
    "            optimizer.step()\n",
    "            scheduler.step()\n",
    "            loss_list.append(loss.item())\n",
    "            pred_score = nn.Softmax(1)(outputs).cpu().detach().numpy()\n",
    "            pred_scores_list += pred_score.tolist()\n",
    "            pred  = np.argmax(pred_score,axis=1)\n",
    "            pred_list += pred.tolist()\n",
    "            truths_list += labels.cpu().numpy().tolist()\n",
    "        scheduler.step()\n",
    "        # report performance\n",
    "        correct_num = (np.array(pred_list) == np.array(truths_list)).sum()\n",
    "        acc = correct_num/len(truths_list)\n",
    "        train_acc_return.append(acc)\n",
    "        train_loss_return.append(np.average(loss_list))\n",
    "        print('----------Epoch{:2d}/{:2d}----------'.format(epoch+1,num_epoch))\n",
    "        print('Train set | Loss: {:6.4f} | Accuracy: {:4.2f}% '\\\n",
    "              .format(np.average(loss_list), acc*100))\n",
    "        \n",
    "        # Val\n",
    "        pred_list = []\n",
    "        pred_scores_list = []\n",
    "        truths_list = []\n",
    "        loss_list = []\n",
    "        model.eval()\n",
    "        with torch.no_grad():\n",
    "            for i, (sample) in enumerate(val_loader):\n",
    "                image = sample['x'].to(device)\n",
    "                labels = sample['y'].to(device)  \n",
    "                outputs = model(image)\n",
    "                loss = loss_fn(outputs, labels)\n",
    "                loss_list.append(loss.item())\n",
    "                pred_score = nn.Softmax(1)(outputs).cpu().detach().numpy()\n",
    "                pred_scores_list += pred_score.tolist()\n",
    "                pred  = np.argmax(pred_score,axis=1)\n",
    "                pred_list += pred.tolist()\n",
    "                truths_list += labels.cpu().numpy().tolist()\n",
    "            # report performance\n",
    "            correct_num = (np.array(pred_list) == np.array(truths_list)).sum()\n",
    "            acc = correct_num/len(truths_list)\n",
    "            val_acc_return.append(acc)\n",
    "            val_loss_return.append(np.average(loss_list))\n",
    "            if acc > best_acc:\n",
    "                best_acc = acc\n",
    "                best_model_wts = model.state_dict()\n",
    "            elapse = time.strftime('%H:%M:%S', time.gmtime(int((time.time() - start_time))))\n",
    "            print('Val set  | Loss: {:6.4f} | Accuracy: {:4.2f}% | Best ACC: {:6.4f} | time elapse: {:>9}'\\\n",
    "                  .format(np.average(loss_list), acc*100, best_acc*100, elapse))\n",
    "            save_model(model, best_model_wts, train_loss_return, train_acc_return,\\\n",
    "                       val_loss_return, val_acc_return, save_name=save_name)\n",
    "            \n",
    "    return None\n",
    "\n",
    "def save_model(model, best_model_wts, train_loss_return,train_acc_return,\\\n",
    "               val_loss_return, val_acc_return, save_name):\n",
    "    state = {'best_model_wts':best_model_wts, 'model':model, \\\n",
    "             'train_loss':train_loss_return, 'train_acc':train_acc_return,\\\n",
    "             'val_loss':val_loss_return, 'val_acc':val_acc_return}\n",
    "    torch.save(state, save_name+'.pt')\n",
    "    return None"
   ]
  },
  {
   "cell_type": "markdown",
   "metadata": {},
   "source": [
    "### Data Augmentation"
   ]
  },
  {
   "cell_type": "code",
   "execution_count": 18,
   "metadata": {},
   "outputs": [],
   "source": [
    "train_transform = transforms.Compose([])\n",
    "train_transform.transforms.append(transforms.ToTensor())\n",
    "transforms.RandomRotation(20, expand=True)\n",
    "train_transform.transforms.append(transforms.RandomResizedCrop(224, scale=(0.8, 1.2), ratio=(1.0,1.0)))\n",
    "train_transform.transforms.append(transforms.RandomErasing())\n",
    "train_transform.transforms.append(transforms.RandomHorizontalFlip())\n",
    "train_transform.transforms.append(transforms.ColorJitter(hue=0.5, saturation=0.5, contrast=0.5))\n",
    "\n",
    "\n",
    "test_transform = transforms.Compose([])\n",
    "test_transform.transforms.append(transforms.ToTensor())\n",
    "test_transform.transforms.append(transforms.Resize((224,224)))\n",
    "\n",
    "class DBT_Dataset(Dataset):\n",
    "    def __init__(self, df_path, train = False):\n",
    "        self.df = pd.read_csv(df_path)\n",
    "        self.train = train\n",
    "        \n",
    "    def __len__(self):\n",
    "        return len(self.df)\n",
    "    \n",
    "    def __getitem__(self, idx):\n",
    "        image_name = self.df.iloc[idx, -1]\n",
    "        image = io.imread(image_name,as_gray=True)\n",
    "        image = image.astype(float)\n",
    "        \n",
    "        # Normalization\n",
    "        image -= np.mean(image)\n",
    "        image /= np.maximum(np.std(image), 10**(-5))\n",
    "        \n",
    "        if self.train:\n",
    "            image_tensor = train_transform(image)\n",
    "        else:\n",
    "            image_tensor = test_transform(image)\n",
    "            \n",
    "       \n",
    "        label = self.df['Label'].iloc[idx]\n",
    "        label = torch.tensor(label, dtype=torch.long)\n",
    "        sample = {'x': image_tensor.float(),'y': label}\n",
    "\n",
    "        return sample"
   ]
  },
  {
   "cell_type": "code",
   "execution_count": 21,
   "metadata": {},
   "outputs": [],
   "source": [
    "class Conv_model(nn.Module):\n",
    "    def __init__(self, kernel_size = 3):\n",
    "        super(Conv_model,self).__init__()\n",
    "        self.conv1 = nn.Conv2d(1,16,kernel_size, stride = 2)\n",
    "        self.relu1 = nn.ReLU()\n",
    "        \n",
    "        self.conv2 = nn.Conv2d(16,32,kernel_size, stride = 2)\n",
    "        self.relu2 = nn.ReLU()\n",
    "        \n",
    "        self.conv3 = nn.Conv2d(32,64,kernel_size, padding = 1, stride = 3)\n",
    "        self.relu3 = nn.ReLU()\n",
    "        \n",
    "        self.conv4 = nn.Conv2d(64,128,kernel_size, padding = 1, stride = 3)\n",
    "        self.relu4 = nn.ReLU()\n",
    "        \n",
    "        self.conv5 = nn.Conv2d(128,256,kernel_size)\n",
    "        self.relu5 = nn.ReLU()\n",
    "        \n",
    "        self.avg = nn.AdaptiveAvgPool2d(1)\n",
    "        self.linear = nn.Linear(256, 2)\n",
    "        \n",
    "    def forward(self,x):\n",
    "        x = self.relu1(self.conv1(x))\n",
    "        x = self.relu2(self.conv2(x))\n",
    "        x = self.relu3(self.conv3(x))\n",
    "        x = self.relu4(self.conv4(x))\n",
    "        x = self.relu5(self.conv5(x))\n",
    "        x = self.avg(x)\n",
    "        x = self.linear(x.view(-1,256))\n",
    "    \n",
    "        return x"
   ]
  },
  {
   "cell_type": "code",
   "execution_count": 22,
   "metadata": {},
   "outputs": [
    {
     "name": "stdout",
     "output_type": "stream",
     "text": [
      "----------Epoch 1/ 4----------\n",
      "Train set | Loss: 0.6728 | Accuracy: 98.89% \n",
      "Val set  | Loss: 0.6619 | Accuracy: 98.97% | Best ACC: 98.9691 | time elapse:  00:01:06\n",
      "----------Epoch 2/ 4----------\n",
      "Train set | Loss: 0.6571 | Accuracy: 98.89% \n",
      "Val set  | Loss: 0.6540 | Accuracy: 98.97% | Best ACC: 98.9691 | time elapse:  00:02:04\n",
      "----------Epoch 3/ 4----------\n",
      "Train set | Loss: 0.6523 | Accuracy: 98.89% \n",
      "Val set  | Loss: 0.6512 | Accuracy: 98.97% | Best ACC: 98.9691 | time elapse:  00:03:03\n",
      "----------Epoch 4/ 4----------\n",
      "Train set | Loss: 0.6507 | Accuracy: 98.89% \n",
      "Val set  | Loss: 0.6505 | Accuracy: 98.97% | Best ACC: 98.9691 | time elapse:  00:04:02\n"
     ]
    }
   ],
   "source": [
    "setup_seed(0)\n",
    "model = Conv_model()\n",
    "model = model.to(device)\n",
    "train_fun(model, num_epoch=4, save_name='model_2')"
   ]
  },
  {
   "cell_type": "markdown",
   "metadata": {},
   "source": [
    "### Model Evaluation"
   ]
  },
  {
   "cell_type": "code",
   "execution_count": 23,
   "metadata": {},
   "outputs": [],
   "source": [
    "from sklearn.metrics import confusion_matrix\n",
    "from sklearn.metrics import roc_curve, auc\n",
    "from itertools import cycle"
   ]
  },
  {
   "cell_type": "code",
   "execution_count": 24,
   "metadata": {},
   "outputs": [
    {
     "data": {
      "text/plain": [
       "<All keys matched successfully>"
      ]
     },
     "execution_count": 24,
     "metadata": {},
     "output_type": "execute_result"
    }
   ],
   "source": [
    "# load best weights\n",
    "path = 'model_2.pt'\n",
    "model.load_state_dict(torch.load(path)['best_model_wts'])"
   ]
  },
  {
   "cell_type": "code",
   "execution_count": 25,
   "metadata": {},
   "outputs": [
    {
     "name": "stderr",
     "output_type": "stream",
     "text": [
      "/ext3/miniconda3/lib/python3.9/site-packages/torch/utils/data/dataloader.py:478: UserWarning: This DataLoader will create 8 worker processes in total. Our suggested max number of worker in current system is 1, which is smaller than what this DataLoader is going to create. Please be aware that excessive worker creation might get DataLoader running slow or even freeze, lower the worker number to avoid potential slowness/freeze if necessary.\n",
      "  warnings.warn(_create_warning_msg(\n"
     ]
    }
   ],
   "source": [
    "test_loader = DataLoader(DBT_Dataset(test_df_path), batch_size=bs, shuffle=False, num_workers=8, pin_memory=True)"
   ]
  },
  {
   "cell_type": "code",
   "execution_count": 26,
   "metadata": {},
   "outputs": [],
   "source": [
    "def evaluate_model(model, test_loader):\n",
    "    pred_list = []\n",
    "    pred_scores_list = []\n",
    "    truths_list = []\n",
    "    \n",
    "    model.eval()\n",
    "    with torch.no_grad():\n",
    "        for i, (sample) in enumerate(test_loader):\n",
    "            image = sample['x'].to(device)\n",
    "            labels = sample['y'].to(device)          # sample['y'].squeeze(1).to(device)\n",
    "            outputs = model(image)\n",
    "            pred_score = nn.Softmax(1)(outputs).cpu().detach().numpy()\n",
    "            pred_scores_list += pred_score.tolist()\n",
    "            pred = np.argmax(pred_score,axis=1)\n",
    "            pred_list += pred.tolist()\n",
    "            truths_list += labels.cpu().numpy().tolist()\n",
    "    return np.array(pred_list), np.array(pred_scores_list), np.array(truths_list)"
   ]
  },
  {
   "cell_type": "code",
   "execution_count": 27,
   "metadata": {},
   "outputs": [],
   "source": [
    "pred, pred_scores, truths = evaluate_model(model, test_loader)"
   ]
  },
  {
   "cell_type": "code",
   "execution_count": 28,
   "metadata": {},
   "outputs": [
    {
     "name": "stdout",
     "output_type": "stream",
     "text": [
      "Prediction: [0 0 0 0 0 0 0 0 0 0]\n",
      "Truth:      [0 0 0 0 0 0 0 0 1 1]\n",
      "Prediction Probability:\n",
      " [[0.52179664 0.47820336]\n",
      " [0.52180672 0.47819328]\n",
      " [0.52179378 0.47820628]\n",
      " [0.52180701 0.47819296]\n",
      " [0.52179468 0.47820529]\n",
      " [0.52180499 0.47819504]\n",
      " [0.52179307 0.47820693]\n",
      " [0.52180135 0.47819868]\n",
      " [0.5217939  0.47820607]\n",
      " [0.52180737 0.47819257]]\n"
     ]
    }
   ],
   "source": [
    "print('Prediction:',pred[:10])\n",
    "print('Truth:     ',truths[:10])\n",
    "print('Prediction Probability:\\n',pred_scores[:10])"
   ]
  },
  {
   "cell_type": "code",
   "execution_count": 29,
   "metadata": {},
   "outputs": [
    {
     "name": "stdout",
     "output_type": "stream",
     "text": [
      "AUC: 0.5\n",
      "Average Precision: 0.010309278350515464\n"
     ]
    }
   ],
   "source": [
    "print('AUC:', roc_auc_score(truths, pred))\n",
    "print('Average Precision:', average_precision_score(truths, pred))"
   ]
  },
  {
   "cell_type": "code",
   "execution_count": 30,
   "metadata": {},
   "outputs": [
    {
     "data": {
      "image/png": "[encoded data removed]",
      "text/plain": [
       "<Figure size 432x288 with 1 Axes>"
      ]
     },
     "metadata": {
      "needs_background": "light"
     },
     "output_type": "display_data"
    }
   ],
   "source": [
    "precision, recall, thresholds = precision_recall_curve(truths, pred)\n",
    "\n",
    "# Precision recall curve\n",
    "fig, ax = plt.subplots()\n",
    "ax.plot(recall, precision, color='purple')\n",
    "\n",
    "# Add axis labels to plot\n",
    "ax.set_title('Precision-Recall Curve')\n",
    "ax.set_ylabel('Precision')\n",
    "ax.set_xlabel('Recall')\n",
    "\n",
    "# Display plot\n",
    "plt.show()"
   ]
  },
  {
   "cell_type": "code",
   "execution_count": 31,
   "metadata": {},
   "outputs": [],
   "source": [
    "# https://scikit-learn.org/stable/auto_examples/model_selection/plot_roc.html\n",
    "def ROC_curve(y_test, y_score):\n",
    "    fpr = dict()\n",
    "    tpr = dict()\n",
    "    roc_auc = dict()\n",
    "    n_classes = y_test.shape[1]\n",
    "    for i in range(n_classes):\n",
    "        fpr[i], tpr[i], _ = roc_curve(y_test[:, i], y_score[:, i])\n",
    "        roc_auc[i] = auc(fpr[i], tpr[i])\n",
    "\n",
    "    colors = cycle(['aqua', 'darkorange'])\n",
    "    lw = 2\n",
    "    for i, color in zip(range(n_classes), colors):\n",
    "        plt.plot(fpr[i], tpr[i], color=color, lw=lw,\n",
    "                 label='ROC curve of class {0} (area = {1:0.2f})'\n",
    "                 ''.format(i, roc_auc[i]))\n",
    "    plt.plot([0, 1], [0, 1], 'k--', lw=lw)\n",
    "    plt.xlim([0.0, 1.0])\n",
    "    plt.ylim([0.0, 1.05])\n",
    "    plt.xlabel('False Positive Rate')\n",
    "    plt.ylabel('True Positive Rate')\n",
    "    plt.title('Some extension of Receiver operating characteristic to multi-class')\n",
    "    plt.legend(loc=\"lower right\")\n",
    "    plt.show()\n",
    "    return None"
   ]
  },
  {
   "cell_type": "code",
   "execution_count": 32,
   "metadata": {},
   "outputs": [
    {
     "name": "stdout",
     "output_type": "stream",
     "text": [
      "Truth = 0: [1 1 1 1 1 1 1 1 0 0]\n",
      "Truth = 1: [0 0 0 0 0 0 0 0 1 1]\n",
      "Label for ROC:\n",
      "[[1 0]\n",
      " [1 0]\n",
      " [1 0]\n",
      " ...\n",
      " [1 0]\n",
      " [1 0]\n",
      " [1 0]]\n",
      "Prediction Probability for ROC:\n",
      "[[0.52179664 0.47820336]\n",
      " [0.52180672 0.47819328]\n",
      " [0.52179378 0.47820628]\n",
      " ...\n",
      " [0.52180541 0.47819459]\n",
      " [0.52178997 0.47821003]\n",
      " [0.52179456 0.47820544]]\n"
     ]
    }
   ],
   "source": [
    "truth_is_0 = (truths == 0).astype(int)\n",
    "truth_is_1 = (truths == 1).astype(int)\n",
    "y_test = np.array([truth_is_0, truth_is_1])\n",
    "y_test = np.transpose(y_test,(1,0))\n",
    "print('Truth = 0:',truth_is_0[:10])\n",
    "print('Truth = 1:',truth_is_1[:10])\n",
    "print('Label for ROC:')\n",
    "print(y_test[:,:10])\n",
    "print('Prediction Probability for ROC:')\n",
    "print(pred_scores[:,:10])"
   ]
  },
  {
   "cell_type": "code",
   "execution_count": 33,
   "metadata": {},
   "outputs": [
    {
     "data": {
      "image/png": "[encoded data removed]",
      "text/plain": [
       "<Figure size 432x288 with 1 Axes>"
      ]
     },
     "metadata": {
      "needs_background": "light"
     },
     "output_type": "display_data"
    }
   ],
   "source": [
    "ROC_curve(y_test,pred_scores)"
   ]
  },
  {
   "cell_type": "code",
   "execution_count": 34,
   "metadata": {},
   "outputs": [],
   "source": [
    "# https://scikit-learn.org/stable/auto_examples/model_selection/plot_confusion_matrix.html\n",
    "def plot_confusion_matrix(y_true, y_pred, classes,\n",
    "                          normalize=False,\n",
    "                          title=None,\n",
    "                          cmap=plt.cm.Blues):\n",
    "    \"\"\"\n",
    "    This function prints and plots the confusion matrix.\n",
    "    Normalization can be applied by setting `normalize=True`.\n",
    "    \"\"\"\n",
    "    if not title:\n",
    "        if normalize:\n",
    "            title = 'Normalized confusion matrix'\n",
    "        else:\n",
    "            title = 'Confusion matrix, without normalization'\n",
    "\n",
    "    # Compute confusion matrix\n",
    "    cm = confusion_matrix(y_true, y_pred)\n",
    "    # Only use the labels that appear in the data\n",
    "    #classes = classes[unique_labels(y_true, y_pred)]\n",
    "    if normalize:\n",
    "        cm = cm.astype('float') / cm.sum(axis=1)[:, np.newaxis]\n",
    "        #print(\"Normalized confusion matrix\")\n",
    "    else:\n",
    "        pass\n",
    "        #print('Confusion matrix, without normalization')\n",
    "\n",
    "    #print(cm)\n",
    "    #print(cm.shape)\n",
    "\n",
    "    fig, ax = plt.subplots()\n",
    "    im = ax.imshow(cm, interpolation='nearest', cmap=cmap)\n",
    "    ax.figure.colorbar(im, ax=ax)\n",
    "    # We want to show all ticks...\n",
    "    ax.set(xticks=np.arange(cm.shape[1]),\n",
    "           yticks=np.arange(cm.shape[0]),\n",
    "           # ... and label them with the respective list entries\n",
    "           xticklabels=classes, yticklabels=classes,\n",
    "           title=title,\n",
    "           ylabel='True label',\n",
    "           xlabel='Predicted label')\n",
    "\n",
    "    # Rotate the tick labels and set their alignment.\n",
    "    plt.setp(ax.get_xticklabels(), rotation=45, ha=\"right\",\n",
    "             rotation_mode=\"anchor\")\n",
    "\n",
    "    # Loop over data dimensions and create text annotations.\n",
    "    fmt = '.2f' if normalize else 'd'\n",
    "    thresh = cm.max() / 2.\n",
    "    for i in range(cm.shape[0]):\n",
    "        for j in range(cm.shape[1]):\n",
    "            ax.text(j, i, format(cm[i, j], fmt),\n",
    "                    ha=\"center\", va=\"center\",\n",
    "                    color=\"white\" if cm[i, j] > thresh else \"black\")\n",
    "    fig.tight_layout()\n",
    "    return None\n"
   ]
  },
  {
   "cell_type": "code",
   "execution_count": 35,
   "metadata": {},
   "outputs": [
    {
     "data": {
      "image/png": "[encoded data removed]",
      "text/plain": [
       "<Figure size 432x288 with 2 Axes>"
      ]
     },
     "metadata": {
      "needs_background": "light"
     },
     "output_type": "display_data"
    }
   ],
   "source": [
    "classes = ['Normal','Disease']\n",
    "plot_confusion_matrix(truths, pred, classes)"
   ]
  },
  {
   "cell_type": "markdown",
   "metadata": {},
   "source": []
  }
 ],
 "metadata": {
  "kernelspec": {
   "display_name": "dl_env",
   "language": "python",
   "name": "dl_env"
  },
  "language_info": {
   "codemirror_mode": {
    "name": "ipython",
    "version": 3
   },
   "file_extension": ".py",
   "mimetype": "text/x-python",
   "name": "python",
   "nbconvert_exporter": "python",
   "pygments_lexer": "ipython3",
   "version": "3.9.7"
  }
 },
 "nbformat": 4,
 "nbformat_minor": 5
}
