{
 "cells": [
  {
   "cell_type": "code",
   "execution_count": 1,
   "metadata": {},
   "outputs": [],
   "source": [
    "import torch\n",
    "import pandas as pd\n",
    "import numpy as np\n",
    "import matplotlib, matplotlib.pyplot as plt\n",
    "from PIL import Image \n",
    "from skimage import io\n",
    "from torch import nn\n",
    "from torch.utils.data import Dataset, DataLoader\n",
    "from torch.utils.data.sampler import WeightedRandomSampler\n",
    "from torchvision import transforms, datasets, models\n",
    "import torch.optim as optim\n",
    "from collections import Counter\n",
    "import re\n",
    "import time\n",
    "import os\n",
    "import torch.nn.functional as F\n",
    "import random\n",
    "\n",
    "from sklearn.metrics import confusion_matrix, accuracy_score, confusion_matrix\n",
    "from sklearn.metrics import roc_curve, auc, roc_auc_score, precision_score, recall_score\n",
    "from sklearn.ensemble import RandomForestClassifier\n",
    "from sklearn.model_selection import RandomizedSearchCV\n",
    "from sklearn.linear_model import LogisticRegression\n",
    "from sklearn.svm import SVC\n",
    "from itertools import cycle"
   ]
  },
  {
   "cell_type": "code",
   "execution_count": 2,
   "metadata": {},
   "outputs": [],
   "source": [
    "if torch.cuda.is_available:\n",
    "    device = torch.device('cuda')\n",
    "else:\n",
    "    device = torch.device('cpu')\n",
    "    \n",
    "def setup_seed(seed): \n",
    "    torch.manual_seed(seed) \n",
    "    torch.cuda.manual_seed_all(seed) \n",
    "    np.random.seed(seed) \n",
    "    random.seed(seed) \n",
    "    torch.backends.cudnn.deterministic = True\n",
    "    return None\n",
    "setup_seed(0)"
   ]
  },
  {
   "cell_type": "code",
   "execution_count": 3,
   "metadata": {},
   "outputs": [
    {
     "data": {
      "text/html": [
       "<div>\n",
       "<style scoped>\n",
       "    .dataframe tbody tr th:only-of-type {\n",
       "        vertical-align: middle;\n",
       "    }\n",
       "\n",
       "    .dataframe tbody tr th {\n",
       "        vertical-align: top;\n",
       "    }\n",
       "\n",
       "    .dataframe thead th {\n",
       "        text-align: right;\n",
       "    }\n",
       "</style>\n",
       "<table border=\"1\" class=\"dataframe\">\n",
       "  <thead>\n",
       "    <tr style=\"text-align: right;\">\n",
       "      <th></th>\n",
       "      <th>PatientID</th>\n",
       "      <th>StudyUID</th>\n",
       "      <th>Label</th>\n",
       "      <th>View</th>\n",
       "      <th>descriptive_path</th>\n",
       "      <th>classic_path</th>\n",
       "      <th>new_path</th>\n",
       "    </tr>\n",
       "  </thead>\n",
       "  <tbody>\n",
       "    <tr>\n",
       "      <th>0</th>\n",
       "      <td>DBT-P02497</td>\n",
       "      <td>DBT-S00143</td>\n",
       "      <td>0</td>\n",
       "      <td>lcc</td>\n",
       "      <td>Breast-Cancer-Screening-DBT/DBT-P02497/01-01-2...</td>\n",
       "      <td>Breast-Cancer-Screening-DBT/DBT-P02497/1.2.826...</td>\n",
       "      <td>Breast-Cancer-Screening-DBT/DBT-P02497/01-01-2...</td>\n",
       "    </tr>\n",
       "    <tr>\n",
       "      <th>1</th>\n",
       "      <td>DBT-P02497</td>\n",
       "      <td>DBT-S00143</td>\n",
       "      <td>0</td>\n",
       "      <td>lmlo</td>\n",
       "      <td>Breast-Cancer-Screening-DBT/DBT-P02497/01-01-2...</td>\n",
       "      <td>Breast-Cancer-Screening-DBT/DBT-P02497/1.2.826...</td>\n",
       "      <td>Breast-Cancer-Screening-DBT/DBT-P02497/01-01-2...</td>\n",
       "    </tr>\n",
       "    <tr>\n",
       "      <th>2</th>\n",
       "      <td>DBT-P02497</td>\n",
       "      <td>DBT-S00143</td>\n",
       "      <td>0</td>\n",
       "      <td>rcc</td>\n",
       "      <td>Breast-Cancer-Screening-DBT/DBT-P02497/01-01-2...</td>\n",
       "      <td>Breast-Cancer-Screening-DBT/DBT-P02497/1.2.826...</td>\n",
       "      <td>Breast-Cancer-Screening-DBT/DBT-P02497/01-01-2...</td>\n",
       "    </tr>\n",
       "    <tr>\n",
       "      <th>3</th>\n",
       "      <td>DBT-P02497</td>\n",
       "      <td>DBT-S00143</td>\n",
       "      <td>0</td>\n",
       "      <td>rmlo</td>\n",
       "      <td>Breast-Cancer-Screening-DBT/DBT-P02497/01-01-2...</td>\n",
       "      <td>Breast-Cancer-Screening-DBT/DBT-P02497/1.2.826...</td>\n",
       "      <td>Breast-Cancer-Screening-DBT/DBT-P02497/01-01-2...</td>\n",
       "    </tr>\n",
       "    <tr>\n",
       "      <th>4</th>\n",
       "      <td>DBT-P02449</td>\n",
       "      <td>DBT-S05000</td>\n",
       "      <td>0</td>\n",
       "      <td>lcc</td>\n",
       "      <td>Breast-Cancer-Screening-DBT/DBT-P02449/01-01-2...</td>\n",
       "      <td>Breast-Cancer-Screening-DBT/DBT-P02449/1.2.826...</td>\n",
       "      <td>Breast-Cancer-Screening-DBT/DBT-P02449/01-01-2...</td>\n",
       "    </tr>\n",
       "  </tbody>\n",
       "</table>\n",
       "</div>"
      ],
      "text/plain": [
       "    PatientID    StudyUID  Label  View  \\\n",
       "0  DBT-P02497  DBT-S00143      0   lcc   \n",
       "1  DBT-P02497  DBT-S00143      0  lmlo   \n",
       "2  DBT-P02497  DBT-S00143      0   rcc   \n",
       "3  DBT-P02497  DBT-S00143      0  rmlo   \n",
       "4  DBT-P02449  DBT-S05000      0   lcc   \n",
       "\n",
       "                                    descriptive_path  \\\n",
       "0  Breast-Cancer-Screening-DBT/DBT-P02497/01-01-2...   \n",
       "1  Breast-Cancer-Screening-DBT/DBT-P02497/01-01-2...   \n",
       "2  Breast-Cancer-Screening-DBT/DBT-P02497/01-01-2...   \n",
       "3  Breast-Cancer-Screening-DBT/DBT-P02497/01-01-2...   \n",
       "4  Breast-Cancer-Screening-DBT/DBT-P02449/01-01-2...   \n",
       "\n",
       "                                        classic_path  \\\n",
       "0  Breast-Cancer-Screening-DBT/DBT-P02497/1.2.826...   \n",
       "1  Breast-Cancer-Screening-DBT/DBT-P02497/1.2.826...   \n",
       "2  Breast-Cancer-Screening-DBT/DBT-P02497/1.2.826...   \n",
       "3  Breast-Cancer-Screening-DBT/DBT-P02497/1.2.826...   \n",
       "4  Breast-Cancer-Screening-DBT/DBT-P02449/1.2.826...   \n",
       "\n",
       "                                            new_path  \n",
       "0  Breast-Cancer-Screening-DBT/DBT-P02497/01-01-2...  \n",
       "1  Breast-Cancer-Screening-DBT/DBT-P02497/01-01-2...  \n",
       "2  Breast-Cancer-Screening-DBT/DBT-P02497/01-01-2...  \n",
       "3  Breast-Cancer-Screening-DBT/DBT-P02497/01-01-2...  \n",
       "4  Breast-Cancer-Screening-DBT/DBT-P02449/01-01-2...  "
      ]
     },
     "execution_count": 3,
     "metadata": {},
     "output_type": "execute_result"
    }
   ],
   "source": [
    "data = pd.read_csv('DBT_train_resized.csv', index_col = 0)\n",
    "data.head()"
   ]
  },
  {
   "cell_type": "code",
   "execution_count": 4,
   "metadata": {},
   "outputs": [
    {
     "name": "stdout",
     "output_type": "stream",
     "text": [
      "Number of biopsied samples: 143\n",
      "Number of normal samples: 12760\n",
      "Disease Ratio: 0.011082693947144074\n"
     ]
    }
   ],
   "source": [
    "# Oversample 1 class\n",
    "print('Number of biopsied samples:', np.sum(data['Label'].values))\n",
    "print('Number of normal samples:', len(data) - np.sum(data['Label'].values))\n",
    "disease_ratio = np.sum(data['Label'].values) / len(data)\n",
    "print('Disease Ratio:', disease_ratio)\n",
    "\n",
    "labels_unique, counts = np.unique(data.Label, return_counts = True)\n",
    "class_weights = [sum(counts)/c for c in counts]\n",
    "example_weights = [class_weights[e] for e in data.Label]\n",
    "sampler = WeightedRandomSampler(example_weights, len(data))"
   ]
  },
  {
   "cell_type": "code",
   "execution_count": 5,
   "metadata": {},
   "outputs": [],
   "source": [
    "train_transforms = transforms.Compose([\n",
    "                                    #transforms.ToPILImage(),\n",
    "                                    transforms.ToTensor(),\n",
    "                                    transforms.RandomRotation(20),\n",
    "                                    transforms.RandomResizedCrop(224, scale=(0.8, 1.2)),\n",
    "                                    transforms.RandomHorizontalFlip(),\n",
    "                                    transforms.ColorJitter(hue=0.5, saturation=0.5, contrast=0.5),\n",
    "                                    transforms.GaussianBlur(7, sigma=(0.1, 1.0)),\n",
    "                                    #transforms.Resize((224,224))\n",
    "                                ])\n",
    "val_transforms = transforms.Compose([transforms.ToTensor(),\n",
    "                                     #transforms.Resize((224,224))\n",
    "                                     ])\n",
    "\n",
    "class DBT_Dataset(Dataset):\n",
    "    def __init__(self, df_path, train = False):\n",
    "        self.df = pd.read_csv(df_path)\n",
    "        self.train = train\n",
    "        \n",
    "    def __len__(self):\n",
    "        return len(self.df)\n",
    "    \n",
    "    def __getitem__(self, idx):\n",
    "        img_name = self.df.iloc[idx, -1]\n",
    "        img = io.imread(img_name, as_gray=True)\n",
    "        #img = np.asarray(img)\n",
    "        img.astype(float)\n",
    "        \n",
    "        img = img - np.mean(img)\n",
    "        img = img / np.maximum(np.std(img), 10**(-5))\n",
    "        \n",
    "        if self.train:\n",
    "            img_tens = train_transforms(img)\n",
    "        else:\n",
    "            img_tens = val_transforms(img)\n",
    "            \n",
    "        label = self.df['Label'].iloc[idx]\n",
    "        #label = self.df.loc[idx,'Label'].astype('int')\n",
    "        label = torch.tensor(label, dtype=torch.long)\n",
    "        sample = (img_tens.float(), label)\n",
    "        \n",
    "        return sample"
   ]
  },
  {
   "cell_type": "code",
   "execution_count": 6,
   "metadata": {},
   "outputs": [],
   "source": [
    "bs = 1\n",
    "train_df_path = 'DBT_train_resized.csv'\n",
    "val_df_path = 'DBT_val_resized.csv'\n",
    "test_df_path = 'DBT_test_resized.csv'\n",
    "\n",
    "train_loader = DataLoader(DBT_Dataset(train_df_path, train=True), batch_size=bs, num_workers=4, pin_memory=True, sampler=sampler, drop_last=True)\n",
    "val_loader = DataLoader(DBT_Dataset(val_df_path), batch_size=bs, shuffle=False, num_workers=4, pin_memory=True, drop_last=True)\n",
    "test_loader = DataLoader(DBT_Dataset(test_df_path), batch_size=bs, shuffle=False, num_workers=4, pin_memory=True, drop_last=True)"
   ]
  },
  {
   "cell_type": "code",
   "execution_count": 100,
   "metadata": {},
   "outputs": [],
   "source": [
    "# Load the pretrained model\n",
    "model = models.resnet18(pretrained=True)\n",
    "model.conv1 = nn.Conv2d(1, 64, kernel_size=(7, 7), stride=(2, 2), padding=(3, 3), bias=False)\n",
    "model = model.to(device)"
   ]
  },
  {
   "cell_type": "code",
   "execution_count": 20,
   "metadata": {
    "collapsed": true,
    "jupyter": {
     "outputs_hidden": true
    }
   },
   "outputs": [
    {
     "data": {
      "text/plain": [
       "ResNet(\n",
       "  (conv1): Conv2d(1, 64, kernel_size=(7, 7), stride=(2, 2), padding=(3, 3), bias=False)\n",
       "  (bn1): BatchNorm2d(64, eps=1e-05, momentum=0.1, affine=True, track_running_stats=True)\n",
       "  (relu): ReLU(inplace=True)\n",
       "  (maxpool): MaxPool2d(kernel_size=3, stride=2, padding=1, dilation=1, ceil_mode=False)\n",
       "  (layer1): Sequential(\n",
       "    (0): BasicBlock(\n",
       "      (conv1): Conv2d(64, 64, kernel_size=(3, 3), stride=(1, 1), padding=(1, 1), bias=False)\n",
       "      (bn1): BatchNorm2d(64, eps=1e-05, momentum=0.1, affine=True, track_running_stats=True)\n",
       "      (relu): ReLU(inplace=True)\n",
       "      (conv2): Conv2d(64, 64, kernel_size=(3, 3), stride=(1, 1), padding=(1, 1), bias=False)\n",
       "      (bn2): BatchNorm2d(64, eps=1e-05, momentum=0.1, affine=True, track_running_stats=True)\n",
       "    )\n",
       "    (1): BasicBlock(\n",
       "      (conv1): Conv2d(64, 64, kernel_size=(3, 3), stride=(1, 1), padding=(1, 1), bias=False)\n",
       "      (bn1): BatchNorm2d(64, eps=1e-05, momentum=0.1, affine=True, track_running_stats=True)\n",
       "      (relu): ReLU(inplace=True)\n",
       "      (conv2): Conv2d(64, 64, kernel_size=(3, 3), stride=(1, 1), padding=(1, 1), bias=False)\n",
       "      (bn2): BatchNorm2d(64, eps=1e-05, momentum=0.1, affine=True, track_running_stats=True)\n",
       "    )\n",
       "  )\n",
       "  (layer2): Sequential(\n",
       "    (0): BasicBlock(\n",
       "      (conv1): Conv2d(64, 128, kernel_size=(3, 3), stride=(2, 2), padding=(1, 1), bias=False)\n",
       "      (bn1): BatchNorm2d(128, eps=1e-05, momentum=0.1, affine=True, track_running_stats=True)\n",
       "      (relu): ReLU(inplace=True)\n",
       "      (conv2): Conv2d(128, 128, kernel_size=(3, 3), stride=(1, 1), padding=(1, 1), bias=False)\n",
       "      (bn2): BatchNorm2d(128, eps=1e-05, momentum=0.1, affine=True, track_running_stats=True)\n",
       "      (downsample): Sequential(\n",
       "        (0): Conv2d(64, 128, kernel_size=(1, 1), stride=(2, 2), bias=False)\n",
       "        (1): BatchNorm2d(128, eps=1e-05, momentum=0.1, affine=True, track_running_stats=True)\n",
       "      )\n",
       "    )\n",
       "    (1): BasicBlock(\n",
       "      (conv1): Conv2d(128, 128, kernel_size=(3, 3), stride=(1, 1), padding=(1, 1), bias=False)\n",
       "      (bn1): BatchNorm2d(128, eps=1e-05, momentum=0.1, affine=True, track_running_stats=True)\n",
       "      (relu): ReLU(inplace=True)\n",
       "      (conv2): Conv2d(128, 128, kernel_size=(3, 3), stride=(1, 1), padding=(1, 1), bias=False)\n",
       "      (bn2): BatchNorm2d(128, eps=1e-05, momentum=0.1, affine=True, track_running_stats=True)\n",
       "    )\n",
       "  )\n",
       "  (layer3): Sequential(\n",
       "    (0): BasicBlock(\n",
       "      (conv1): Conv2d(128, 256, kernel_size=(3, 3), stride=(2, 2), padding=(1, 1), bias=False)\n",
       "      (bn1): BatchNorm2d(256, eps=1e-05, momentum=0.1, affine=True, track_running_stats=True)\n",
       "      (relu): ReLU(inplace=True)\n",
       "      (conv2): Conv2d(256, 256, kernel_size=(3, 3), stride=(1, 1), padding=(1, 1), bias=False)\n",
       "      (bn2): BatchNorm2d(256, eps=1e-05, momentum=0.1, affine=True, track_running_stats=True)\n",
       "      (downsample): Sequential(\n",
       "        (0): Conv2d(128, 256, kernel_size=(1, 1), stride=(2, 2), bias=False)\n",
       "        (1): BatchNorm2d(256, eps=1e-05, momentum=0.1, affine=True, track_running_stats=True)\n",
       "      )\n",
       "    )\n",
       "    (1): BasicBlock(\n",
       "      (conv1): Conv2d(256, 256, kernel_size=(3, 3), stride=(1, 1), padding=(1, 1), bias=False)\n",
       "      (bn1): BatchNorm2d(256, eps=1e-05, momentum=0.1, affine=True, track_running_stats=True)\n",
       "      (relu): ReLU(inplace=True)\n",
       "      (conv2): Conv2d(256, 256, kernel_size=(3, 3), stride=(1, 1), padding=(1, 1), bias=False)\n",
       "      (bn2): BatchNorm2d(256, eps=1e-05, momentum=0.1, affine=True, track_running_stats=True)\n",
       "    )\n",
       "  )\n",
       "  (layer4): Sequential(\n",
       "    (0): BasicBlock(\n",
       "      (conv1): Conv2d(256, 512, kernel_size=(3, 3), stride=(2, 2), padding=(1, 1), bias=False)\n",
       "      (bn1): BatchNorm2d(512, eps=1e-05, momentum=0.1, affine=True, track_running_stats=True)\n",
       "      (relu): ReLU(inplace=True)\n",
       "      (conv2): Conv2d(512, 512, kernel_size=(3, 3), stride=(1, 1), padding=(1, 1), bias=False)\n",
       "      (bn2): BatchNorm2d(512, eps=1e-05, momentum=0.1, affine=True, track_running_stats=True)\n",
       "      (downsample): Sequential(\n",
       "        (0): Conv2d(256, 512, kernel_size=(1, 1), stride=(2, 2), bias=False)\n",
       "        (1): BatchNorm2d(512, eps=1e-05, momentum=0.1, affine=True, track_running_stats=True)\n",
       "      )\n",
       "    )\n",
       "    (1): BasicBlock(\n",
       "      (conv1): Conv2d(512, 512, kernel_size=(3, 3), stride=(1, 1), padding=(1, 1), bias=False)\n",
       "      (bn1): BatchNorm2d(512, eps=1e-05, momentum=0.1, affine=True, track_running_stats=True)\n",
       "      (relu): ReLU(inplace=True)\n",
       "      (conv2): Conv2d(512, 512, kernel_size=(3, 3), stride=(1, 1), padding=(1, 1), bias=False)\n",
       "      (bn2): BatchNorm2d(512, eps=1e-05, momentum=0.1, affine=True, track_running_stats=True)\n",
       "    )\n",
       "  )\n",
       "  (avgpool): AdaptiveAvgPool2d(output_size=(1, 1))\n",
       "  (fc): Linear(in_features=512, out_features=1000, bias=True)\n",
       ")"
      ]
     },
     "execution_count": 20,
     "metadata": {},
     "output_type": "execute_result"
    }
   ],
   "source": [
    "model"
   ]
  },
  {
   "cell_type": "code",
   "execution_count": 101,
   "metadata": {},
   "outputs": [],
   "source": [
    "# Use the model object to select the desired layer\n",
    "layer = model._modules.get('layer1')\n",
    "\n",
    "# Set model to evaluation mode\n",
    "model.eval()\n",
    "avg = nn.MaxPool2d(56, stride = 1)\n",
    "def get_vector(img):\n",
    "    def copy_data(m, i, o):\n",
    "        #print(o.shape)\n",
    "        embed.copy_(avg(o).flatten())                 \n",
    "    embed = torch.zeros(64)\n",
    "    h = layer.register_forward_hook(copy_data)\n",
    "    with torch.no_grad():\n",
    "        model(img)\n",
    "    #model(img)\n",
    "    h.remove()\n",
    "    return embed.numpy()"
   ]
  },
  {
   "cell_type": "code",
   "execution_count": 102,
   "metadata": {},
   "outputs": [],
   "source": [
    "train_embed, train_label = {}, {}\n",
    "for idx, (sample) in enumerate(train_loader):\n",
    "    img = sample[0].to(device)\n",
    "    labels = sample[1].numpy().squeeze(0)#.to(device)\n",
    "    train_embed[idx] = get_vector(img)\n",
    "    train_label[idx] = labels\n",
    "    \n",
    "test_embed, test_label = {}, {}\n",
    "for idx, (sample) in enumerate(test_loader):\n",
    "    img = sample[0].to(device)\n",
    "    labels = sample[1].numpy().squeeze(0)#.to(device)\n",
    "    test_embed[idx] = get_vector(img)\n",
    "    test_label[idx] = labels"
   ]
  },
  {
   "cell_type": "code",
   "execution_count": 93,
   "metadata": {},
   "outputs": [],
   "source": [
    "rf_train = pd.DataFrame.from_dict(train_embed, orient='index')\n",
    "rf_test = pd.DataFrame.from_dict(test_embed, orient='index')\n",
    "\n",
    "label_train = pd.DataFrame.from_dict(train_label, orient='index')\n",
    "label_test = pd.DataFrame.from_dict(test_label, orient='index')"
   ]
  },
  {
   "cell_type": "code",
   "execution_count": 95,
   "metadata": {},
   "outputs": [
    {
     "data": {
      "text/plain": [
       "0.5512609649122807"
      ]
     },
     "execution_count": 95,
     "metadata": {},
     "output_type": "execute_result"
    }
   ],
   "source": [
    "rf = RandomForestClassifier()\n",
    "rf.fit(rf_train, list(label_train[0]))\n",
    "rf_pred = rf.predict(rf_test)\n",
    "roc_auc_score(label_test[0], rf_pred)"
   ]
  },
  {
   "cell_type": "code",
   "execution_count": 28,
   "metadata": {},
   "outputs": [
    {
     "data": {
      "text/plain": [
       "0.5614035087719298"
      ]
     },
     "execution_count": 28,
     "metadata": {},
     "output_type": "execute_result"
    }
   ],
   "source": [
    "rf = RandomForestClassifier()\n",
    "rf.fit(rf_train, list(label_train[0]))\n",
    "rf_pred = rf.predict(rf_test)\n",
    "roc_auc_score(label_test[0], rf_pred)"
   ]
  },
  {
   "cell_type": "code",
   "execution_count": 39,
   "metadata": {},
   "outputs": [
    {
     "data": {
      "image/png": "[encoded data removed]",
      "text/plain": [
       "<Figure size 432x288 with 1 Axes>"
      ]
     },
     "metadata": {
      "needs_background": "light"
     },
     "output_type": "display_data"
    }
   ],
   "source": [
    "# Compute ROC curve and ROC area for each class\n",
    "fpr, tpr, threshold = roc_curve(label_test[0], rf_pred)\n",
    "roc_auc = auc(fpr, tpr)\n",
    "plt.title('Receiver Operating Characteristic')\n",
    "plt.plot(fpr, tpr, 'b', label = 'AUC = %0.2f' % roc_auc)\n",
    "plt.legend(loc = 'lower right')\n",
    "plt.plot([0, 1], [0, 1],'r--')\n",
    "plt.xlim([0, 1])\n",
    "plt.ylim([0, 1])\n",
    "plt.ylabel('True Positive Rate')\n",
    "plt.xlabel('False Positive Rate')\n",
    "plt.show()"
   ]
  },
  {
   "cell_type": "code",
   "execution_count": 40,
   "metadata": {},
   "outputs": [],
   "source": [
    "n_estimators = [350,400,450]\n",
    "max_depth = [100,150,200]\n",
    "min_samples_split = [1,2,4]\n",
    "min_samples_leaf = [1,2,3]\n",
    "random_grid = {'n_estimators': n_estimators,\n",
    "               'max_depth': max_depth,\n",
    "               'min_samples_split': min_samples_split,\n",
    "               'min_samples_leaf': min_samples_leaf}"
   ]
  },
  {
   "cell_type": "code",
   "execution_count": 41,
   "metadata": {},
   "outputs": [
    {
     "name": "stdout",
     "output_type": "stream",
     "text": [
      "{'n_estimators': [350, 400, 450], 'max_depth': [100, 150, 200], 'min_samples_split': [1, 2, 4], 'min_samples_leaf': [1, 2, 3]}\n"
     ]
    }
   ],
   "source": [
    "print(random_grid)"
   ]
  },
  {
   "cell_type": "code",
   "execution_count": null,
   "metadata": {},
   "outputs": [],
   "source": [
    "rf = RandomForestClassifier()\n",
    "rf_random = RandomizedSearchCV(estimator=rf, param_distributions=random_grid, n_iter=100, cv=3, scoring='recall', verbose=3, random_state=42, n_jobs=-1)\n",
    "rf_random.fit(rf_train, list(label_train[0]))"
   ]
  },
  {
   "cell_type": "code",
   "execution_count": 72,
   "metadata": {
    "collapsed": true,
    "jupyter": {
     "outputs_hidden": true
    }
   },
   "outputs": [
    {
     "data": {
      "text/plain": [
       "{'n_estimators': 350,\n",
       " 'min_samples_split': 4,\n",
       " 'min_samples_leaf': 1,\n",
       " 'max_depth': 150}"
      ]
     },
     "execution_count": 72,
     "metadata": {},
     "output_type": "execute_result"
    },
    {
     "name": "stdout",
     "output_type": "stream",
     "text": [
      "[CV 2/3] END max_depth=100, min_samples_leaf=1, min_samples_split=1, n_estimators=350;, score=nan total time=   0.1s\n",
      "[CV 3/3] END max_depth=100, min_samples_leaf=1, min_samples_split=1, n_estimators=400;, score=nan total time=   0.1s\n",
      "[CV 3/3] END max_depth=100, min_samples_leaf=1, min_samples_split=1, n_estimators=450;, score=nan total time=   0.1s\n",
      "[CV 1/3] END max_depth=100, min_samples_leaf=1, min_samples_split=2, n_estimators=400;, score=0.728 total time= 1.0min\n",
      "[CV 2/3] END max_depth=100, min_samples_leaf=1, min_samples_split=2, n_estimators=450;, score=0.707 total time= 1.1min\n",
      "[CV 3/3] END max_depth=100, min_samples_leaf=1, min_samples_split=4, n_estimators=350;, score=0.715 total time=  52.5s\n",
      "[CV 1/3] END max_depth=100, min_samples_leaf=1, min_samples_split=4, n_estimators=450;, score=0.726 total time= 1.1min\n",
      "[CV 2/3] END max_depth=100, min_samples_leaf=2, min_samples_split=2, n_estimators=350;, score=0.707 total time=  49.9s\n",
      "[CV 2/3] END max_depth=100, min_samples_leaf=2, min_samples_split=2, n_estimators=400;, score=0.699 total time=  57.1s\n",
      "[CV 3/3] END max_depth=100, min_samples_leaf=2, min_samples_split=2, n_estimators=450;, score=0.719 total time= 1.1min\n",
      "[CV 2/3] END max_depth=100, min_samples_leaf=2, min_samples_split=4, n_estimators=400;, score=0.706 total time=  57.0s\n",
      "[CV 3/3] END max_depth=100, min_samples_leaf=2, min_samples_split=4, n_estimators=450;, score=0.727 total time= 1.1min\n",
      "[CV 1/3] END max_depth=100, min_samples_leaf=3, min_samples_split=2, n_estimators=400;, score=0.738 total time=  56.1s\n",
      "[CV 2/3] END max_depth=100, min_samples_leaf=3, min_samples_split=2, n_estimators=450;, score=0.705 total time= 1.0min\n",
      "[CV 3/3] END max_depth=100, min_samples_leaf=3, min_samples_split=4, n_estimators=350;, score=0.723 total time=  49.3s\n",
      "[CV 1/3] END max_depth=100, min_samples_leaf=3, min_samples_split=4, n_estimators=450;, score=0.731 total time= 1.1min\n",
      "[CV 2/3] END max_depth=150, min_samples_leaf=1, min_samples_split=2, n_estimators=350;, score=0.711 total time=  51.9s\n",
      "[CV 3/3] END max_depth=150, min_samples_leaf=1, min_samples_split=2, n_estimators=400;, score=0.728 total time= 1.0min\n",
      "[CV 1/3] END max_depth=150, min_samples_leaf=1, min_samples_split=4, n_estimators=350;, score=0.734 total time=  52.6s\n",
      "[CV 2/3] END max_depth=150, min_samples_leaf=1, min_samples_split=4, n_estimators=400;, score=0.709 total time=  59.3s\n",
      "[CV 3/3] END max_depth=150, min_samples_leaf=1, min_samples_split=4, n_estimators=450;, score=0.727 total time= 1.1min\n",
      "[CV 1/3] END max_depth=150, min_samples_leaf=2, min_samples_split=2, n_estimators=400;, score=0.731 total time=  58.2s\n",
      "[CV 2/3] END max_depth=150, min_samples_leaf=2, min_samples_split=2, n_estimators=450;, score=0.709 total time= 1.1min\n",
      "[CV 3/3] END max_depth=150, min_samples_leaf=2, min_samples_split=4, n_estimators=350;, score=0.720 total time=  50.8s\n",
      "[CV 1/3] END max_depth=150, min_samples_leaf=2, min_samples_split=4, n_estimators=450;, score=0.736 total time= 1.1min\n",
      "[CV 2/3] END max_depth=150, min_samples_leaf=3, min_samples_split=2, n_estimators=350;, score=0.704 total time=  48.4s\n",
      "[CV 3/3] END max_depth=150, min_samples_leaf=3, min_samples_split=2, n_estimators=400;, score=0.714 total time=  56.3s\n",
      "[CV 1/3] END max_depth=150, min_samples_leaf=3, min_samples_split=4, n_estimators=350;, score=0.731 total time=  49.1s\n",
      "[CV 2/3] END max_depth=150, min_samples_leaf=3, min_samples_split=4, n_estimators=400;, score=0.702 total time=  55.2s\n",
      "[CV 3/3] END max_depth=150, min_samples_leaf=3, min_samples_split=4, n_estimators=450;, score=0.720 total time= 1.1min\n",
      "[CV 1/3] END max_depth=200, min_samples_leaf=1, min_samples_split=2, n_estimators=400;, score=0.730 total time= 1.0min\n",
      "[CV 2/3] END max_depth=200, min_samples_leaf=1, min_samples_split=2, n_estimators=450;, score=0.706 total time= 1.1min\n",
      "[CV 3/3] END max_depth=200, min_samples_leaf=1, min_samples_split=4, n_estimators=350;, score=0.717 total time=  52.2s\n",
      "[CV 1/3] END max_depth=200, min_samples_leaf=1, min_samples_split=4, n_estimators=450;, score=0.741 total time= 1.1min\n",
      "[CV 2/3] END max_depth=200, min_samples_leaf=2, min_samples_split=2, n_estimators=350;, score=0.711 total time=  50.1s\n",
      "[CV 3/3] END max_depth=200, min_samples_leaf=2, min_samples_split=2, n_estimators=400;, score=0.724 total time=  57.8s\n",
      "[CV 1/3] END max_depth=200, min_samples_leaf=2, min_samples_split=4, n_estimators=350;, score=0.727 total time=  50.8s\n",
      "[CV 1/3] END max_depth=200, min_samples_leaf=2, min_samples_split=4, n_estimators=400;, score=0.735 total time=  58.3s\n",
      "[CV 3/3] END max_depth=200, min_samples_leaf=2, min_samples_split=4, n_estimators=450;, score=0.721 total time= 1.1min\n",
      "[CV 1/3] END max_depth=200, min_samples_leaf=3, min_samples_split=2, n_estimators=400;, score=0.725 total time=  56.1s\n",
      "[CV 2/3] END max_depth=200, min_samples_leaf=3, min_samples_split=2, n_estimators=450;, score=0.709 total time= 1.0min\n",
      "[CV 3/3] END max_depth=200, min_samples_leaf=3, min_samples_split=4, n_estimators=350;, score=0.718 total time=  48.8s\n",
      "[CV 1/3] END max_depth=200, min_samples_leaf=3, min_samples_split=4, n_estimators=450;, score=0.729 total time= 1.1min\n"
     ]
    }
   ],
   "source": [
    "## Best params with full sample\n",
    "best_params = rf_random.best_params_\n",
    "best_params"
   ]
  },
  {
   "cell_type": "code",
   "execution_count": 54,
   "metadata": {},
   "outputs": [
    {
     "data": {
      "text/plain": [
       "{'n_estimators': 400,\n",
       " 'min_samples_split': 2,\n",
       " 'min_samples_leaf': 1,\n",
       " 'max_depth': 150}"
      ]
     },
     "execution_count": 54,
     "metadata": {},
     "output_type": "execute_result"
    }
   ],
   "source": [
    "## Best params with 1000 sample bootstrapping\n",
    "best_params = rf_random.best_params_\n",
    "best_params"
   ]
  },
  {
   "cell_type": "code",
   "execution_count": 73,
   "metadata": {
    "collapsed": true,
    "jupyter": {
     "outputs_hidden": true
    }
   },
   "outputs": [
    {
     "name": "stdout",
     "output_type": "stream",
     "text": [
      "[CV 1/3] END max_depth=200, min_samples_leaf=3, min_samples_split=4, n_estimators=400;, score=0.717 total time=  56.2s\n",
      "[CV 2/3] END max_depth=200, min_samples_leaf=3, min_samples_split=4, n_estimators=450;, score=0.704 total time= 1.0min\n",
      "[CV 3/3] END max_depth=100, min_samples_leaf=1, min_samples_split=1, n_estimators=350;, score=nan total time=   0.1s\n",
      "[CV 1/3] END max_depth=100, min_samples_leaf=1, min_samples_split=1, n_estimators=450;, score=nan total time=   0.1s\n",
      "[CV 2/3] END max_depth=100, min_samples_leaf=1, min_samples_split=2, n_estimators=350;, score=0.707 total time=  52.1s\n",
      "[CV 2/3] END max_depth=100, min_samples_leaf=1, min_samples_split=2, n_estimators=400;, score=0.716 total time=  59.9s\n",
      "[CV 3/3] END max_depth=100, min_samples_leaf=1, min_samples_split=2, n_estimators=450;, score=0.721 total time= 1.1min\n",
      "[CV 3/3] END max_depth=100, min_samples_leaf=1, min_samples_split=4, n_estimators=400;, score=0.722 total time= 1.0min\n",
      "[CV 1/3] END max_depth=100, min_samples_leaf=2, min_samples_split=1, n_estimators=350;, score=nan total time=   0.1s\n",
      "[CV 2/3] END max_depth=100, min_samples_leaf=2, min_samples_split=1, n_estimators=350;, score=nan total time=   0.1s\n",
      "[CV 3/3] END max_depth=100, min_samples_leaf=2, min_samples_split=1, n_estimators=350;, score=nan total time=   0.1s\n",
      "[CV 1/3] END max_depth=100, min_samples_leaf=2, min_samples_split=1, n_estimators=400;, score=nan total time=   0.1s\n",
      "[CV 2/3] END max_depth=100, min_samples_leaf=2, min_samples_split=1, n_estimators=400;, score=nan total time=   0.1s\n",
      "[CV 3/3] END max_depth=100, min_samples_leaf=2, min_samples_split=1, n_estimators=400;, score=nan total time=   0.1s\n",
      "[CV 1/3] END max_depth=100, min_samples_leaf=2, min_samples_split=1, n_estimators=450;, score=nan total time=   0.1s\n",
      "[CV 2/3] END max_depth=100, min_samples_leaf=2, min_samples_split=1, n_estimators=450;, score=nan total time=   0.1s\n",
      "[CV 3/3] END max_depth=100, min_samples_leaf=2, min_samples_split=1, n_estimators=450;, score=nan total time=   0.1s\n",
      "[CV 1/3] END max_depth=100, min_samples_leaf=2, min_samples_split=2, n_estimators=350;, score=0.734 total time=  50.8s\n",
      "[CV 3/3] END max_depth=100, min_samples_leaf=2, min_samples_split=2, n_estimators=350;, score=0.718 total time=  50.6s\n",
      "[CV 1/3] END max_depth=100, min_samples_leaf=2, min_samples_split=2, n_estimators=450;, score=0.737 total time= 1.1min\n",
      "[CV 2/3] END max_depth=100, min_samples_leaf=2, min_samples_split=4, n_estimators=350;, score=0.716 total time=  49.9s\n",
      "[CV 3/3] END max_depth=100, min_samples_leaf=2, min_samples_split=4, n_estimators=400;, score=0.728 total time=  57.9s\n",
      "[CV 1/3] END max_depth=100, min_samples_leaf=3, min_samples_split=1, n_estimators=350;, score=nan total time=   0.1s\n",
      "[CV 2/3] END max_depth=100, min_samples_leaf=3, min_samples_split=1, n_estimators=350;, score=nan total time=   0.1s\n",
      "[CV 3/3] END max_depth=100, min_samples_leaf=3, min_samples_split=1, n_estimators=350;, score=nan total time=   0.1s\n",
      "[CV 1/3] END max_depth=100, min_samples_leaf=3, min_samples_split=1, n_estimators=400;, score=nan total time=   0.1s\n",
      "[CV 2/3] END max_depth=100, min_samples_leaf=3, min_samples_split=1, n_estimators=400;, score=nan total time=   0.1s\n",
      "[CV 3/3] END max_depth=100, min_samples_leaf=3, min_samples_split=1, n_estimators=400;, score=nan total time=   0.1s\n",
      "[CV 1/3] END max_depth=100, min_samples_leaf=3, min_samples_split=1, n_estimators=450;, score=nan total time=   0.1s\n",
      "[CV 2/3] END max_depth=100, min_samples_leaf=3, min_samples_split=1, n_estimators=450;, score=nan total time=   0.1s\n",
      "[CV 3/3] END max_depth=100, min_samples_leaf=3, min_samples_split=1, n_estimators=450;, score=nan total time=   0.1s\n",
      "[CV 1/3] END max_depth=100, min_samples_leaf=3, min_samples_split=2, n_estimators=350;, score=0.725 total time=  49.3s\n",
      "[CV 2/3] END max_depth=100, min_samples_leaf=3, min_samples_split=2, n_estimators=400;, score=0.710 total time=  55.1s\n",
      "[CV 3/3] END max_depth=100, min_samples_leaf=3, min_samples_split=2, n_estimators=450;, score=0.715 total time= 1.1min\n",
      "[CV 2/3] END max_depth=100, min_samples_leaf=3, min_samples_split=4, n_estimators=400;, score=0.700 total time=  55.2s\n",
      "[CV 3/3] END max_depth=100, min_samples_leaf=3, min_samples_split=4, n_estimators=450;, score=0.710 total time= 1.1min\n",
      "[CV 1/3] END max_depth=150, min_samples_leaf=1, min_samples_split=2, n_estimators=400;, score=0.738 total time= 1.0min\n",
      "[CV 2/3] END max_depth=150, min_samples_leaf=1, min_samples_split=2, n_estimators=450;, score=0.702 total time= 1.1min\n",
      "[CV 3/3] END max_depth=150, min_samples_leaf=1, min_samples_split=4, n_estimators=350;, score=0.727 total time=  52.5s\n",
      "[CV 1/3] END max_depth=150, min_samples_leaf=1, min_samples_split=4, n_estimators=450;, score=0.731 total time= 1.1min\n",
      "[CV 2/3] END max_depth=150, min_samples_leaf=2, min_samples_split=2, n_estimators=350;, score=0.704 total time=  50.0s\n",
      "[CV 3/3] END max_depth=150, min_samples_leaf=2, min_samples_split=2, n_estimators=400;, score=0.721 total time=  57.7s\n",
      "[CV 1/3] END max_depth=150, min_samples_leaf=2, min_samples_split=4, n_estimators=350;, score=0.729 total time=  50.6s\n",
      "[CV 2/3] END max_depth=150, min_samples_leaf=2, min_samples_split=4, n_estimators=400;, score=0.705 total time=  57.1s\n",
      "[CV 3/3] END max_depth=150, min_samples_leaf=2, min_samples_split=4, n_estimators=450;, score=0.726 total time= 1.1min\n",
      "[CV 1/3] END max_depth=150, min_samples_leaf=3, min_samples_split=2, n_estimators=400;, score=0.727 total time=  56.0s\n",
      "[CV 2/3] END max_depth=150, min_samples_leaf=3, min_samples_split=2, n_estimators=450;, score=0.704 total time= 1.0min\n",
      "[CV 3/3] END max_depth=150, min_samples_leaf=3, min_samples_split=4, n_estimators=350;, score=0.712 total time=  49.2s\n",
      "[CV 1/3] END max_depth=150, min_samples_leaf=3, min_samples_split=4, n_estimators=450;, score=0.723 total time= 1.1min\n",
      "[CV 2/3] END max_depth=200, min_samples_leaf=1, min_samples_split=2, n_estimators=350;, score=0.702 total time=  52.1s\n",
      "[CV 3/3] END max_depth=200, min_samples_leaf=1, min_samples_split=2, n_estimators=400;, score=0.725 total time= 1.0min\n",
      "[CV 1/3] END max_depth=200, min_samples_leaf=1, min_samples_split=4, n_estimators=350;, score=0.744 total time=  52.7s\n",
      "[CV 2/3] END max_depth=200, min_samples_leaf=1, min_samples_split=4, n_estimators=400;, score=0.719 total time=  59.4s\n",
      "[CV 3/3] END max_depth=200, min_samples_leaf=1, min_samples_split=4, n_estimators=450;, score=0.722 total time= 1.1min\n",
      "[CV 1/3] END max_depth=200, min_samples_leaf=2, min_samples_split=2, n_estimators=400;, score=0.732 total time=  58.1s\n",
      "[CV 2/3] END max_depth=200, min_samples_leaf=2, min_samples_split=2, n_estimators=450;, score=0.705 total time= 1.1min\n",
      "[CV 3/3] END max_depth=200, min_samples_leaf=2, min_samples_split=4, n_estimators=350;, score=0.720 total time=  51.0s\n",
      "[CV 1/3] END max_depth=200, min_samples_leaf=2, min_samples_split=4, n_estimators=450;, score=0.736 total time= 1.1min\n",
      "[CV 2/3] END max_depth=200, min_samples_leaf=3, min_samples_split=2, n_estimators=350;, score=0.704 total time=  48.2s\n",
      "[CV 3/3] END max_depth=200, min_samples_leaf=3, min_samples_split=2, n_estimators=400;, score=0.714 total time=  55.9s\n",
      "[CV 1/3] END max_depth=200, min_samples_leaf=3, min_samples_split=4, n_estimators=350;, score=0.718 total time=  49.3s\n",
      "[CV 2/3] END max_depth=200, min_samples_leaf=3, min_samples_split=4, n_estimators=400;, score=0.706 total time=  55.3s\n",
      "[CV 3/3] END max_depth=200, min_samples_leaf=3, min_samples_split=4, n_estimators=450;, score=0.717 total time= 1.0min\n"
     ]
    },
    {
     "data": {
      "text/plain": [
       "RandomForestClassifier(max_depth=150, min_samples_split=4, n_estimators=350)"
      ]
     },
     "execution_count": 73,
     "metadata": {},
     "output_type": "execute_result"
    }
   ],
   "source": [
    "rf_best = RandomForestClassifier(**best_params)\n",
    "rf_best.fit(rf_train, list(label_train[0]))"
   ]
  },
  {
   "cell_type": "code",
   "execution_count": 79,
   "metadata": {},
   "outputs": [],
   "source": [
    "rf_pred = rf_best.predict(rf_train)"
   ]
  },
  {
   "cell_type": "code",
   "execution_count": 76,
   "metadata": {},
   "outputs": [
    {
     "data": {
      "text/plain": [
       "0.8941942485078677"
      ]
     },
     "execution_count": 76,
     "metadata": {},
     "output_type": "execute_result"
    }
   ],
   "source": [
    "accuracy_score(label_test[0], rf_pred)"
   ]
  },
  {
   "cell_type": "code",
   "execution_count": 65,
   "metadata": {
    "collapsed": true,
    "jupyter": {
     "outputs_hidden": true
    }
   },
   "outputs": [
    {
     "data": {
      "text/plain": [
       "0.48437500000000006"
      ]
     },
     "execution_count": 65,
     "metadata": {},
     "output_type": "execute_result"
    },
    {
     "name": "stdout",
     "output_type": "stream",
     "text": [
      "[CV 2/3] END max_depth=200, min_samples_leaf=2, min_samples_split=10, n_estimators=400;, score=0.627 total time=   7.4s\n",
      "[CV 3/3] END max_depth=100, min_samples_leaf=1, min_samples_split=5, n_estimators=500;, score=0.647 total time=   9.6s\n",
      "[CV 1/3] END max_depth=20, min_samples_leaf=1, min_samples_split=2, n_estimators=400;, score=0.654 total time=   7.8s\n",
      "[CV 2/3] END max_depth=10, min_samples_leaf=1, min_samples_split=10, n_estimators=500;, score=0.612 total time=   8.3s\n",
      "[CV 3/3] END max_depth=10, min_samples_leaf=4, min_samples_split=2, n_estimators=100;, score=0.640 total time=   1.8s\n",
      "[CV 2/3] END max_depth=50, min_samples_leaf=2, min_samples_split=10, n_estimators=200;, score=0.625 total time=   3.9s\n",
      "[CV 3/3] END max_depth=20, min_samples_leaf=4, min_samples_split=2, n_estimators=500;, score=0.663 total time=   9.3s\n",
      "[CV 2/3] END max_depth=150, min_samples_leaf=2, min_samples_split=2, n_estimators=200;, score=0.632 total time=   4.0s\n",
      "[CV 3/3] END max_depth=100, min_samples_leaf=1, min_samples_split=2, n_estimators=300;, score=0.659 total time=   6.2s\n",
      "[CV 1/3] END max_depth=20, min_samples_leaf=1, min_samples_split=2, n_estimators=100;, score=0.644 total time=   2.1s\n",
      "[CV 2/3] END max_depth=20, min_samples_leaf=1, min_samples_split=2, n_estimators=100;, score=0.618 total time=   2.1s\n",
      "[CV 3/3] END max_depth=20, min_samples_leaf=1, min_samples_split=2, n_estimators=100;, score=0.641 total time=   2.1s\n",
      "[CV 2/3] END max_depth=100, min_samples_leaf=2, min_samples_split=5, n_estimators=400;, score=0.632 total time=   7.9s\n",
      "[CV 3/3] END max_depth=200, min_samples_leaf=2, min_samples_split=5, n_estimators=300;, score=0.647 total time=   5.9s\n",
      "[CV 1/3] END max_depth=200, min_samples_leaf=4, min_samples_split=10, n_estimators=400;, score=0.643 total time=   7.4s\n",
      "[CV 2/3] END max_depth=200, min_samples_leaf=1, min_samples_split=2, n_estimators=300;, score=0.628 total time=   6.2s\n",
      "[CV 3/3] END max_depth=20, min_samples_leaf=4, min_samples_split=5, n_estimators=300;, score=0.655 total time=   5.4s\n",
      "[CV 3/3] END max_depth=150, min_samples_leaf=1, min_samples_split=10, n_estimators=500;, score=0.654 total time=   9.5s\n",
      "[CV 3/3] END max_depth=100, min_samples_leaf=1, min_samples_split=10, n_estimators=200;, score=0.651 total time=   3.8s\n",
      "[CV 1/3] END max_depth=20, min_samples_leaf=2, min_samples_split=2, n_estimators=100;, score=0.647 total time=   1.9s\n",
      "[CV 2/3] END max_depth=20, min_samples_leaf=2, min_samples_split=2, n_estimators=100;, score=0.625 total time=   1.9s\n",
      "[CV 3/3] END max_depth=20, min_samples_leaf=2, min_samples_split=2, n_estimators=100;, score=0.637 total time=   1.9s\n",
      "[CV 1/3] END max_depth=150, min_samples_leaf=4, min_samples_split=10, n_estimators=200;, score=0.652 total time=   3.6s\n",
      "[CV 3/3] END max_depth=150, min_samples_leaf=4, min_samples_split=10, n_estimators=200;, score=0.638 total time=   3.5s\n",
      "[CV 1/3] END max_depth=20, min_samples_leaf=1, min_samples_split=2, n_estimators=200;, score=0.671 total time=   3.9s\n",
      "[CV 2/3] END max_depth=10, min_samples_leaf=4, min_samples_split=10, n_estimators=300;, score=0.612 total time=   4.8s\n",
      "[CV 2/3] END max_depth=10, min_samples_leaf=1, min_samples_split=5, n_estimators=500;, score=0.627 total time=   8.4s\n",
      "[CV 1/3] END max_depth=150, min_samples_leaf=2, min_samples_split=2, n_estimators=500;, score=0.669 total time=   9.4s\n",
      "[CV 2/3] END max_depth=50, min_samples_leaf=2, min_samples_split=2, n_estimators=500;, score=0.640 total time=   9.3s\n",
      "[CV 3/3] END max_depth=10, min_samples_leaf=2, min_samples_split=5, n_estimators=500;, score=0.646 total time=   8.3s\n",
      "[CV 2/3] END max_depth=20, min_samples_leaf=2, min_samples_split=5, n_estimators=400;, score=0.637 total time=   7.5s\n",
      "[CV 3/3] END max_depth=100, min_samples_leaf=1, min_samples_split=5, n_estimators=500;, score=0.654 total time=  10.0s\n",
      "[CV 1/3] END max_depth=200, min_samples_leaf=2, min_samples_split=10, n_estimators=300;, score=0.655 total time=   5.9s\n",
      "[CV 1/3] END max_depth=10, min_samples_leaf=1, min_samples_split=5, n_estimators=200;, score=0.654 total time=   3.6s\n",
      "[CV 1/3] END max_depth=50, min_samples_leaf=4, min_samples_split=2, n_estimators=100;, score=0.663 total time=   1.9s\n",
      "[CV 1/3] END max_depth=20, min_samples_leaf=2, min_samples_split=5, n_estimators=300;, score=0.672 total time=   6.0s\n",
      "[CV 2/3] END max_depth=50, min_samples_leaf=2, min_samples_split=10, n_estimators=500;, score=0.627 total time=   9.7s\n",
      "[CV 1/3] END max_depth=10, min_samples_leaf=2, min_samples_split=10, n_estimators=100;, score=0.630 total time=   1.8s\n",
      "[CV 3/3] END max_depth=10, min_samples_leaf=2, min_samples_split=10, n_estimators=100;, score=0.627 total time=   1.8s\n",
      "[CV 3/3] END max_depth=50, min_samples_leaf=4, min_samples_split=5, n_estimators=100;, score=0.644 total time=   1.9s\n",
      "[CV 3/3] END max_depth=200, min_samples_leaf=2, min_samples_split=2, n_estimators=500;, score=0.667 total time=  10.0s\n",
      "[CV 1/3] END max_depth=20, min_samples_leaf=4, min_samples_split=2, n_estimators=300;, score=0.678 total time=   5.6s\n",
      "[CV 3/3] END max_depth=20, min_samples_leaf=4, min_samples_split=2, n_estimators=300;, score=0.657 total time=   5.6s\n",
      "[CV 3/3] END max_depth=50, min_samples_leaf=1, min_samples_split=2, n_estimators=100;, score=0.628 total time=   2.1s\n",
      "[CV 1/3] END max_depth=50, min_samples_leaf=1, min_samples_split=2, n_estimators=400;, score=0.670 total time=   8.2s\n",
      "[CV 2/3] END max_depth=150, min_samples_leaf=1, min_samples_split=2, n_estimators=100;, score=0.609 total time=   2.0s\n",
      "[CV 3/3] END max_depth=100, min_samples_leaf=1, min_samples_split=10, n_estimators=200;, score=0.647 total time=   3.8s\n",
      "[CV 1/3] END max_depth=100, min_samples_leaf=1, min_samples_split=5, n_estimators=600;, score=0.660 total time=  11.6s\n",
      "[CV 1/3] END max_depth=10, min_samples_leaf=2, min_samples_split=10, n_estimators=400;, score=0.648 total time=   6.6s\n",
      "[CV 3/3] END max_depth=20, min_samples_leaf=4, min_samples_split=5, n_estimators=600;, score=0.645 total time=  10.5s\n",
      "[CV 2/3] END max_depth=100, min_samples_leaf=1, min_samples_split=10, n_estimators=400;, score=0.630 total time=   7.5s\n",
      "[CV 3/3] END max_depth=10, min_samples_leaf=4, min_samples_split=5, n_estimators=100;, score=0.624 total time=   1.6s\n",
      "[CV 3/3] END max_depth=200, min_samples_leaf=2, min_samples_split=10, n_estimators=500;, score=0.644 total time=   9.3s\n",
      "[CV 1/3] END max_depth=200, min_samples_leaf=2, min_samples_split=10, n_estimators=400;, score=0.649 total time=   7.4s\n",
      "[CV 2/3] END max_depth=100, min_samples_leaf=1, min_samples_split=5, n_estimators=500;, score=0.628 total time=   9.6s\n",
      "[CV 3/3] END max_depth=200, min_samples_leaf=2, min_samples_split=2, n_estimators=500;, score=0.647 total time=   9.4s\n",
      "[CV 1/3] END max_depth=10, min_samples_leaf=1, min_samples_split=10, n_estimators=500;, score=0.649 total time=   8.4s\n",
      "[CV 2/3] END max_depth=10, min_samples_leaf=4, min_samples_split=2, n_estimators=100;, score=0.611 total time=   1.8s\n",
      "[CV 1/3] END max_depth=20, min_samples_leaf=4, min_samples_split=2, n_estimators=500;, score=0.668 total time=   9.4s\n",
      "[CV 2/3] END max_depth=50, min_samples_leaf=4, min_samples_split=5, n_estimators=300;, score=0.632 total time=   5.6s\n",
      "[CV 3/3] END max_depth=150, min_samples_leaf=2, min_samples_split=2, n_estimators=200;, score=0.666 total time=   4.0s\n",
      "[CV 1/3] END max_depth=150, min_samples_leaf=2, min_samples_split=10, n_estimators=500;, score=0.676 total time=   9.8s\n",
      "[CV 1/3] END max_depth=100, min_samples_leaf=2, min_samples_split=5, n_estimators=400;, score=0.662 total time=   7.9s\n",
      "[CV 2/3] END max_depth=200, min_samples_leaf=2, min_samples_split=5, n_estimators=300;, score=0.659 total time=   5.8s\n",
      "[CV 3/3] END max_depth=150, min_samples_leaf=1, min_samples_split=2, n_estimators=400;, score=0.669 total time=   8.2s\n",
      "[CV 1/3] END max_depth=200, min_samples_leaf=1, min_samples_split=2, n_estimators=300;, score=0.677 total time=   6.2s\n",
      "[CV 2/3] END max_depth=20, min_samples_leaf=4, min_samples_split=5, n_estimators=300;, score=0.620 total time=   5.3s\n",
      "[CV 2/3] END max_depth=150, min_samples_leaf=1, min_samples_split=10, n_estimators=500;, score=0.640 total time=   9.5s\n",
      "[CV 2/3] END max_depth=100, min_samples_leaf=1, min_samples_split=10, n_estimators=200;, score=0.621 total time=   3.8s\n",
      "[CV 2/3] END max_depth=50, min_samples_leaf=1, min_samples_split=10, n_estimators=500;, score=0.638 total time=   9.6s\n",
      "[CV 1/3] END max_depth=200, min_samples_leaf=4, min_samples_split=10, n_estimators=200;, score=0.656 total time=   3.6s\n",
      "[CV 3/3] END max_depth=20, min_samples_leaf=1, min_samples_split=2, n_estimators=200;, score=0.663 total time=   3.9s\n",
      "[CV 1/3] END max_depth=150, min_samples_leaf=1, min_samples_split=5, n_estimators=100;, score=0.658 total time=   2.0s\n",
      "[CV 2/3] END max_depth=150, min_samples_leaf=1, min_samples_split=5, n_estimators=100;, score=0.630 total time=   1.9s\n",
      "[CV 3/3] END max_depth=150, min_samples_leaf=1, min_samples_split=5, n_estimators=100;, score=0.641 total time=   2.0s\n",
      "[CV 1/3] END max_depth=10, min_samples_leaf=2, min_samples_split=5, n_estimators=300;, score=0.656 total time=   5.0s\n",
      "[CV 2/3] END max_depth=10, min_samples_leaf=2, min_samples_split=5, n_estimators=300;, score=0.620 total time=   5.0s\n",
      "[CV 3/3] END max_depth=150, min_samples_leaf=2, min_samples_split=2, n_estimators=500;, score=0.671 total time=   9.5s\n",
      "[CV 1/3] END max_depth=10, min_samples_leaf=2, min_samples_split=5, n_estimators=500;, score=0.656 total time=   8.4s\n",
      "[CV 2/3] END max_depth=50, min_samples_leaf=2, min_samples_split=5, n_estimators=400;, score=0.625 total time=   7.4s\n",
      "[CV 3/3] END max_depth=20, min_samples_leaf=2, min_samples_split=5, n_estimators=400;, score=0.656 total time=   7.6s\n",
      "[CV 1/3] END max_depth=150, min_samples_leaf=4, min_samples_split=10, n_estimators=500;, score=0.656 total time=   9.2s\n",
      "[CV 2/3] END max_depth=200, min_samples_leaf=2, min_samples_split=10, n_estimators=300;, score=0.621 total time=   5.8s\n",
      "[CV 2/3] END max_depth=10, min_samples_leaf=1, min_samples_split=5, n_estimators=200;, score=0.629 total time=   3.6s\n",
      "[CV 2/3] END max_depth=50, min_samples_leaf=4, min_samples_split=2, n_estimators=100;, score=0.607 total time=   1.9s\n",
      "[CV 2/3] END max_depth=20, min_samples_leaf=2, min_samples_split=5, n_estimators=300;, score=0.630 total time=   5.8s\n",
      "[CV 3/3] END max_depth=50, min_samples_leaf=2, min_samples_split=10, n_estimators=500;, score=0.662 total time=   9.9s\n",
      "[CV 2/3] END max_depth=10, min_samples_leaf=2, min_samples_split=10, n_estimators=100;, score=0.604 total time=   1.8s\n",
      "[CV 1/3] END max_depth=50, min_samples_leaf=4, min_samples_split=5, n_estimators=100;, score=0.646 total time=   1.9s\n",
      "[CV 1/3] END max_depth=200, min_samples_leaf=2, min_samples_split=2, n_estimators=500;, score=0.670 total time=  10.0s\n",
      "[CV 2/3] END max_depth=10, min_samples_leaf=2, min_samples_split=2, n_estimators=500;, score=0.618 total time=   8.8s\n",
      "[CV 2/3] END max_depth=150, min_samples_leaf=4, min_samples_split=5, n_estimators=200;, score=0.639 total time=   3.7s\n",
      "[CV 2/3] END max_depth=50, min_samples_leaf=1, min_samples_split=2, n_estimators=100;, score=0.602 total time=   2.1s\n",
      "[CV 3/3] END max_depth=150, min_samples_leaf=2, min_samples_split=10, n_estimators=400;, score=0.651 total time=   7.8s\n",
      "[CV 1/3] END max_depth=150, min_samples_leaf=1, min_samples_split=2, n_estimators=100;, score=0.628 total time=   2.1s\n",
      "[CV 3/3] END max_depth=150, min_samples_leaf=1, min_samples_split=2, n_estimators=100;, score=0.615 total time=   2.1s\n",
      "[CV 3/3] END max_depth=10, min_samples_leaf=1, min_samples_split=10, n_estimators=500;, score=0.634 total time=   8.2s\n",
      "[CV 1/3] END max_depth=50, min_samples_leaf=2, min_samples_split=10, n_estimators=200;, score=0.645 total time=   3.9s\n",
      "[CV 2/3] END max_depth=20, min_samples_leaf=4, min_samples_split=2, n_estimators=500;, score=0.631 total time=   9.2s\n",
      "[CV 1/3] END max_depth=150, min_samples_leaf=2, min_samples_split=2, n_estimators=200;, score=0.666 total time=   4.0s\n",
      "[CV 1/3] END max_depth=100, min_samples_leaf=1, min_samples_split=2, n_estimators=300;, score=0.653 total time=   6.2s\n",
      "[CV 2/3] END max_depth=150, min_samples_leaf=2, min_samples_split=10, n_estimators=500;, score=0.631 total time=   9.7s\n",
      "[CV 3/3] END max_depth=100, min_samples_leaf=2, min_samples_split=5, n_estimators=400;, score=0.665 total time=   7.9s\n",
      "[CV 2/3] END max_depth=150, min_samples_leaf=1, min_samples_split=2, n_estimators=400;, score=0.639 total time=   8.1s\n",
      "[CV 3/3] END max_depth=200, min_samples_leaf=4, min_samples_split=10, n_estimators=400;, score=0.664 total time=   7.4s\n",
      "[CV 1/3] END max_depth=20, min_samples_leaf=4, min_samples_split=5, n_estimators=300;, score=0.654 total time=   5.5s\n",
      "[CV 2/3] END max_depth=100, min_samples_leaf=4, min_samples_split=2, n_estimators=100;, score=0.628 total time=   1.8s\n",
      "[CV 1/3] END max_depth=150, min_samples_leaf=1, min_samples_split=10, n_estimators=500;, score=0.662 total time=   9.6s\n",
      "[CV 1/3] END max_depth=100, min_samples_leaf=1, min_samples_split=10, n_estimators=200;, score=0.650 total time=   3.8s\n",
      "[CV 3/3] END max_depth=50, min_samples_leaf=1, min_samples_split=10, n_estimators=500;, score=0.655 total time=   9.6s\n",
      "[CV 2/3] END max_depth=200, min_samples_leaf=4, min_samples_split=10, n_estimators=200;, score=0.619 total time=   3.5s\n",
      "[CV 2/3] END max_depth=20, min_samples_leaf=1, min_samples_split=2, n_estimators=200;, score=0.641 total time=   3.9s\n",
      "[CV 3/3] END max_depth=10, min_samples_leaf=4, min_samples_split=10, n_estimators=300;, score=0.645 total time=   4.8s\n",
      "[CV 3/3] END max_depth=10, min_samples_leaf=1, min_samples_split=5, n_estimators=500;, score=0.665 total time=   8.5s\n",
      "[CV 2/3] END max_depth=150, min_samples_leaf=2, min_samples_split=2, n_estimators=500;, score=0.648 total time=   9.3s\n",
      "[CV 3/3] END max_depth=50, min_samples_leaf=2, min_samples_split=2, n_estimators=500;, score=0.665 total time=   9.5s\n",
      "[CV 1/3] END max_depth=50, min_samples_leaf=2, min_samples_split=5, n_estimators=400;, score=0.669 total time=   7.6s\n",
      "[CV 1/3] END max_depth=20, min_samples_leaf=2, min_samples_split=5, n_estimators=400;, score=0.690 total time=   7.6s\n",
      "[CV 2/3] END max_depth=100, min_samples_leaf=1, min_samples_split=5, n_estimators=500;, score=0.639 total time=   9.9s\n",
      "[CV 3/3] END max_depth=150, min_samples_leaf=4, min_samples_split=10, n_estimators=500;, score=0.652 total time=   9.2s\n",
      "[CV 3/3] END max_depth=10, min_samples_leaf=1, min_samples_split=5, n_estimators=200;, score=0.627 total time=   3.7s\n",
      "[CV 3/3] END max_depth=20, min_samples_leaf=2, min_samples_split=5, n_estimators=300;, score=0.682 total time=   6.0s\n",
      "[CV 1/3] END max_depth=50, min_samples_leaf=2, min_samples_split=10, n_estimators=400;, score=0.667 total time=   8.0s\n",
      "[CV 3/3] END max_depth=50, min_samples_leaf=2, min_samples_split=10, n_estimators=400;, score=0.660 total time=   7.8s\n",
      "[CV 1/3] END max_depth=10, min_samples_leaf=2, min_samples_split=2, n_estimators=500;, score=0.647 total time=   8.8s\n",
      "[CV 2/3] END max_depth=20, min_samples_leaf=4, min_samples_split=2, n_estimators=300;, score=0.634 total time=   5.6s\n",
      "[CV 1/3] END max_depth=150, min_samples_leaf=4, min_samples_split=5, n_estimators=200;, score=0.653 total time=   3.9s\n",
      "[CV 1/3] END max_depth=50, min_samples_leaf=1, min_samples_split=2, n_estimators=100;, score=0.645 total time=   2.1s\n",
      "[CV 1/3] END max_depth=150, min_samples_leaf=2, min_samples_split=10, n_estimators=400;, score=0.662 total time=   7.9s\n",
      "[CV 2/3] END max_depth=50, min_samples_leaf=1, min_samples_split=2, n_estimators=400;, score=0.631 total time=   8.0s\n",
      "[CV 3/3] END max_depth=100, min_samples_leaf=1, min_samples_split=2, n_estimators=400;, score=0.645 total time=   7.8s\n",
      "[CV 1/3] END max_depth=10, min_samples_leaf=4, min_samples_split=5, n_estimators=100;, score=0.641 total time=   1.6s\n",
      "[CV 2/3] END max_depth=10, min_samples_leaf=4, min_samples_split=5, n_estimators=100;, score=0.606 total time=   1.6s\n",
      "[CV 2/3] END max_depth=200, min_samples_leaf=2, min_samples_split=10, n_estimators=500;, score=0.621 total time=   9.2s\n",
      "[CV 3/3] END max_depth=10, min_samples_leaf=4, min_samples_split=5, n_estimators=400;, score=0.639 total time=   6.4s\n",
      "[CV 1/3] END max_depth=100, min_samples_leaf=1, min_samples_split=5, n_estimators=500;, score=0.651 total time=   9.7s\n",
      "[CV 2/3] END max_depth=200, min_samples_leaf=2, min_samples_split=2, n_estimators=500;, score=0.622 total time=   9.2s\n",
      "[CV 3/3] END max_depth=20, min_samples_leaf=1, min_samples_split=2, n_estimators=400;, score=0.639 total time=   7.8s\n",
      "[CV 1/3] END max_depth=10, min_samples_leaf=4, min_samples_split=2, n_estimators=100;, score=0.636 total time=   1.8s\n",
      "[CV 3/3] END max_depth=50, min_samples_leaf=2, min_samples_split=10, n_estimators=200;, score=0.648 total time=   4.1s\n",
      "[CV 1/3] END max_depth=50, min_samples_leaf=4, min_samples_split=5, n_estimators=300;, score=0.652 total time=   5.7s\n",
      "[CV 3/3] END max_depth=50, min_samples_leaf=4, min_samples_split=5, n_estimators=300;, score=0.668 total time=   5.8s\n",
      "[CV 2/3] END max_depth=100, min_samples_leaf=1, min_samples_split=2, n_estimators=300;, score=0.637 total time=   6.3s\n",
      "[CV 3/3] END max_depth=150, min_samples_leaf=2, min_samples_split=10, n_estimators=500;, score=0.660 total time=   9.9s\n",
      "[CV 1/3] END max_depth=200, min_samples_leaf=2, min_samples_split=5, n_estimators=300;, score=0.671 total time=   6.1s\n",
      "[CV 1/3] END max_depth=150, min_samples_leaf=1, min_samples_split=2, n_estimators=400;, score=0.689 total time=   8.5s\n",
      "[CV 2/3] END max_depth=200, min_samples_leaf=4, min_samples_split=10, n_estimators=400;, score=0.625 total time=   7.5s\n",
      "[CV 3/3] END max_depth=200, min_samples_leaf=1, min_samples_split=2, n_estimators=300;, score=0.652 total time=   6.2s\n",
      "[CV 1/3] END max_depth=100, min_samples_leaf=4, min_samples_split=2, n_estimators=100;, score=0.646 total time=   1.8s\n",
      "[CV 3/3] END max_depth=100, min_samples_leaf=4, min_samples_split=2, n_estimators=100;, score=0.632 total time=   1.8s\n",
      "[CV 1/3] END max_depth=200, min_samples_leaf=1, min_samples_split=2, n_estimators=200;, score=0.664 total time=   3.9s\n",
      "[CV 2/3] END max_depth=200, min_samples_leaf=1, min_samples_split=2, n_estimators=200;, score=0.623 total time=   3.9s\n",
      "[CV 3/3] END max_depth=200, min_samples_leaf=1, min_samples_split=2, n_estimators=200;, score=0.646 total time=   3.9s\n",
      "[CV 1/3] END max_depth=50, min_samples_leaf=1, min_samples_split=10, n_estimators=500;, score=0.670 total time=   9.6s\n",
      "[CV 2/3] END max_depth=150, min_samples_leaf=4, min_samples_split=10, n_estimators=200;, score=0.628 total time=   3.5s\n",
      "[CV 3/3] END max_depth=200, min_samples_leaf=4, min_samples_split=10, n_estimators=200;, score=0.660 total time=   3.5s\n",
      "[CV 1/3] END max_depth=10, min_samples_leaf=4, min_samples_split=10, n_estimators=300;, score=0.637 total time=   4.8s\n",
      "[CV 1/3] END max_depth=10, min_samples_leaf=1, min_samples_split=5, n_estimators=500;, score=0.667 total time=   8.5s\n",
      "[CV 3/3] END max_depth=10, min_samples_leaf=2, min_samples_split=5, n_estimators=300;, score=0.651 total time=   5.0s\n",
      "[CV 1/3] END max_depth=50, min_samples_leaf=2, min_samples_split=2, n_estimators=500;, score=0.689 total time=   9.5s\n",
      "[CV 2/3] END max_depth=10, min_samples_leaf=2, min_samples_split=5, n_estimators=500;, score=0.623 total time=   8.3s\n",
      "[CV 3/3] END max_depth=50, min_samples_leaf=2, min_samples_split=5, n_estimators=400;, score=0.652 total time=   7.5s\n",
      "[CV 1/3] END max_depth=100, min_samples_leaf=1, min_samples_split=5, n_estimators=500;, score=0.680 total time=   9.8s\n",
      "[CV 2/3] END max_depth=150, min_samples_leaf=4, min_samples_split=10, n_estimators=500;, score=0.619 total time=   9.3s\n",
      "[CV 3/3] END max_depth=200, min_samples_leaf=2, min_samples_split=10, n_estimators=300;, score=0.644 total time=   6.0s\n",
      "[CV 3/3] END max_depth=50, min_samples_leaf=4, min_samples_split=2, n_estimators=100;, score=0.662 total time=   1.9s\n",
      "[CV 1/3] END max_depth=50, min_samples_leaf=2, min_samples_split=10, n_estimators=500;, score=0.672 total time=   9.8s\n",
      "[CV 2/3] END max_depth=50, min_samples_leaf=2, min_samples_split=10, n_estimators=400;, score=0.635 total time=   7.9s\n",
      "[CV 2/3] END max_depth=50, min_samples_leaf=4, min_samples_split=5, n_estimators=100;, score=0.620 total time=   1.9s\n",
      "[CV 2/3] END max_depth=200, min_samples_leaf=2, min_samples_split=2, n_estimators=500;, score=0.636 total time=   9.9s\n",
      "[CV 3/3] END max_depth=10, min_samples_leaf=2, min_samples_split=2, n_estimators=500;, score=0.656 total time=   8.9s\n",
      "[CV 3/3] END max_depth=150, min_samples_leaf=4, min_samples_split=5, n_estimators=200;, score=0.648 total time=   3.8s\n",
      "[CV 2/3] END max_depth=150, min_samples_leaf=2, min_samples_split=10, n_estimators=400;, score=0.632 total time=   7.9s\n",
      "[CV 3/3] END max_depth=50, min_samples_leaf=1, min_samples_split=2, n_estimators=400;, score=0.655 total time=   8.2s\n"
     ]
    }
   ],
   "source": [
    "## Logistic Regression\n",
    "lr = LogisticRegression(max_iter=5000)\n",
    "lr.fit(rf_train, list(label_train[0]))\n",
    "lr_pred = lr.predict(rf_test)\n",
    "roc_auc_score(label_test[0], lr_pred)"
   ]
  },
  {
   "cell_type": "code",
   "execution_count": 66,
   "metadata": {},
   "outputs": [
    {
     "data": {
      "text/plain": [
       "0.5016447368421052"
      ]
     },
     "execution_count": 66,
     "metadata": {},
     "output_type": "execute_result"
    }
   ],
   "source": [
    "## SVM\n",
    "svm = SVC()\n",
    "svm.fit(rf_train, list(label_train[0]))\n",
    "svm_pred = svm.predict(rf_test)\n",
    "roc_auc_score(label_test[0], svm_pred)"
   ]
  },
  {
   "cell_type": "code",
   "execution_count": null,
   "metadata": {},
   "outputs": [],
   "source": []
  },
  {
   "cell_type": "code",
   "execution_count": 19,
   "metadata": {},
   "outputs": [],
   "source": [
    "def plot_confusion_matrix(y_true, y_pred, classes, normalize=False, title=None, cmap=plt.cm.Blues):\n",
    "    if not title:\n",
    "        if normalize:\n",
    "            title = 'Normalized confusion matrix'\n",
    "        else:\n",
    "            title = 'Confusion matrix, without normalization'\n",
    "    cm = confusion_matrix(y_true, y_pred)\n",
    "    #classes = classes[unique_labels(y_true, y_pred)]\n",
    "    if normalize:\n",
    "        cm = cm.astype('float') / cm.sum(axis=1)[:, np.newaxis]\n",
    "    else:\n",
    "        pass\n",
    "\n",
    "    fig, ax = plt.subplots()\n",
    "    im = ax.imshow(cm, interpolation='nearest', cmap=cmap)\n",
    "    ax.figure.colorbar(im, ax=ax)\n",
    "    ax.set(xticks=np.arange(cm.shape[1]),\n",
    "           yticks=np.arange(cm.shape[0]),\n",
    "           xticklabels=classes, yticklabels=classes,\n",
    "           title=title,\n",
    "           ylabel='True label',\n",
    "           xlabel='Predicted label')\n",
    "\n",
    "    plt.setp(ax.get_xticklabels(), rotation=45, ha=\"right\",\n",
    "             rotation_mode=\"anchor\")\n",
    "\n",
    "    fmt = '.2f' if normalize else 'd'\n",
    "    thresh = cm.max() / 2.\n",
    "    for i in range(cm.shape[0]):\n",
    "        for j in range(cm.shape[1]):\n",
    "            ax.text(j, i, format(cm[i, j], fmt),\n",
    "                    ha=\"center\", va=\"center\",\n",
    "                    color=\"white\" if cm[i, j] > thresh else \"black\")\n",
    "    fig.tight_layout()\n",
    "    return None"
   ]
  },
  {
   "cell_type": "code",
   "execution_count": 20,
   "metadata": {},
   "outputs": [
    {
     "data": {
      "image/png": "[encoded data removed]",
      "text/plain": [
       "<Figure size 432x288 with 2 Axes>"
      ]
     },
     "metadata": {
      "needs_background": "light"
     },
     "output_type": "display_data"
    }
   ],
   "source": [
    "classes = ['Normal','Disease']\n",
    "plot_confusion_matrix(label_test[0], rf_pred, classes)"
   ]
  },
  {
   "cell_type": "code",
   "execution_count": 37,
   "metadata": {},
   "outputs": [
    {
     "data": {
      "text/plain": [
       "0.6826066008190799"
      ]
     },
     "execution_count": 37,
     "metadata": {},
     "output_type": "execute_result"
    }
   ],
   "source": [
    "roc_auc_score(label_test[0][500:1100], rf_pred[500:1100])"
   ]
  },
  {
   "cell_type": "code",
   "execution_count": 47,
   "metadata": {},
   "outputs": [
    {
     "data": {
      "image/png": "[encoded data removed]",
      "text/plain": [
       "<Figure size 432x288 with 1 Axes>"
      ]
     },
     "metadata": {
      "needs_background": "light"
     },
     "output_type": "display_data"
    }
   ],
   "source": [
    "fpr, tpr, threshold = roc_curve(label_test[0][500:1100], rf_pred[500:1100])\n",
    "roc_auc = auc(fpr, tpr)\n",
    "plt.title('Receiver Operating Characteristic')\n",
    "plt.plot(fpr, tpr, 'b', label = 'AUC = %0.2f' % roc_auc)\n",
    "plt.legend(loc = 'lower right')\n",
    "plt.plot([0, 1], [0, 1],'r--')\n",
    "plt.xlim([0, 1])\n",
    "plt.ylim([0, 1])\n",
    "plt.ylabel('True Positive Rate')\n",
    "plt.xlabel('False Positive Rate')\n",
    "plt.show()"
   ]
  },
  {
   "cell_type": "code",
   "execution_count": 75,
   "metadata": {},
   "outputs": [
    {
     "data": {
      "image/png": "[encoded data removed]",
      "text/plain": [
       "<Figure size 432x288 with 1 Axes>"
      ]
     },
     "metadata": {
      "needs_background": "light"
     },
     "output_type": "display_data"
    }
   ],
   "source": [
    "synth = [0]*100+[1]*100\n",
    "pred = [0]*75+[1]*100+[0]*25\n",
    "fpr, tpr, threshold = roc_curve(synth, pred)\n",
    "roc_auc = auc(fpr, tpr)\n",
    "plt.title('Receiver Operating Characteristic')\n",
    "plt.plot(fpr, tpr, 'b', label = 'AUC = %0.2f' % roc_auc)\n",
    "plt.legend(loc = 'lower right')\n",
    "plt.plot([0, 1], [0, 1],'r--')\n",
    "plt.xlim([0, 1])\n",
    "plt.ylim([0, 1])\n",
    "plt.ylabel('True Positive Rate')\n",
    "plt.xlabel('False Positive Rate')\n",
    "plt.show()"
   ]
  },
  {
   "cell_type": "code",
   "execution_count": 72,
   "metadata": {},
   "outputs": [],
   "source": [
    "del auc"
   ]
  },
  {
   "cell_type": "code",
   "execution_count": null,
   "metadata": {},
   "outputs": [],
   "source": []
  }
 ],
 "metadata": {
  "kernelspec": {
   "display_name": "bmsc",
   "language": "python",
   "name": "bmsc"
  },
  "language_info": {
   "codemirror_mode": {
    "name": "ipython",
    "version": 3
   },
   "file_extension": ".py",
   "mimetype": "text/x-python",
   "name": "python",
   "nbconvert_exporter": "python",
   "pygments_lexer": "ipython3",
   "version": "3.9.7"
  }
 },
 "nbformat": 4,
 "nbformat_minor": 4
}
