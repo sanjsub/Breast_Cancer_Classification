{
 "cells": [
  {
   "cell_type": "code",
   "execution_count": 1,
   "metadata": {},
   "outputs": [],
   "source": [
    "import pandas as pd"
   ]
  },
  {
   "cell_type": "code",
   "execution_count": 2,
   "metadata": {},
   "outputs": [
    {
     "data": {
      "text/html": [
       "<div>\n",
       "<style scoped>\n",
       "    .dataframe tbody tr th:only-of-type {\n",
       "        vertical-align: middle;\n",
       "    }\n",
       "\n",
       "    .dataframe tbody tr th {\n",
       "        vertical-align: top;\n",
       "    }\n",
       "\n",
       "    .dataframe thead th {\n",
       "        text-align: right;\n",
       "    }\n",
       "</style>\n",
       "<table border=\"1\" class=\"dataframe\">\n",
       "  <thead>\n",
       "    <tr style=\"text-align: right;\">\n",
       "      <th></th>\n",
       "      <th>PatientID</th>\n",
       "      <th>StudyUID</th>\n",
       "      <th>Label</th>\n",
       "      <th>View</th>\n",
       "      <th>descriptive_path</th>\n",
       "      <th>classic_path</th>\n",
       "    </tr>\n",
       "  </thead>\n",
       "  <tbody>\n",
       "    <tr>\n",
       "      <th>0</th>\n",
       "      <td>DBT-P01013</td>\n",
       "      <td>DBT-S00665</td>\n",
       "      <td>0</td>\n",
       "      <td>lcc</td>\n",
       "      <td>Breast-Cancer-Screening-DBT/DBT-P01013/01-01-2...</td>\n",
       "      <td>Breast-Cancer-Screening-DBT/DBT-P01013/1.2.826...</td>\n",
       "    </tr>\n",
       "    <tr>\n",
       "      <th>1</th>\n",
       "      <td>DBT-P01013</td>\n",
       "      <td>DBT-S00665</td>\n",
       "      <td>0</td>\n",
       "      <td>lmlo</td>\n",
       "      <td>Breast-Cancer-Screening-DBT/DBT-P01013/01-01-2...</td>\n",
       "      <td>Breast-Cancer-Screening-DBT/DBT-P01013/1.2.826...</td>\n",
       "    </tr>\n",
       "    <tr>\n",
       "      <th>2</th>\n",
       "      <td>DBT-P01013</td>\n",
       "      <td>DBT-S00665</td>\n",
       "      <td>0</td>\n",
       "      <td>rcc</td>\n",
       "      <td>Breast-Cancer-Screening-DBT/DBT-P01013/01-01-2...</td>\n",
       "      <td>Breast-Cancer-Screening-DBT/DBT-P01013/1.2.826...</td>\n",
       "    </tr>\n",
       "    <tr>\n",
       "      <th>3</th>\n",
       "      <td>DBT-P01013</td>\n",
       "      <td>DBT-S00665</td>\n",
       "      <td>0</td>\n",
       "      <td>rmlo</td>\n",
       "      <td>Breast-Cancer-Screening-DBT/DBT-P01013/01-01-2...</td>\n",
       "      <td>Breast-Cancer-Screening-DBT/DBT-P01013/1.2.826...</td>\n",
       "    </tr>\n",
       "    <tr>\n",
       "      <th>4</th>\n",
       "      <td>DBT-P04493</td>\n",
       "      <td>DBT-S02147</td>\n",
       "      <td>0</td>\n",
       "      <td>lcc</td>\n",
       "      <td>Breast-Cancer-Screening-DBT/DBT-P04493/01-01-2...</td>\n",
       "      <td>Breast-Cancer-Screening-DBT/DBT-P04493/1.2.826...</td>\n",
       "    </tr>\n",
       "  </tbody>\n",
       "</table>\n",
       "</div>"
      ],
      "text/plain": [
       "    PatientID    StudyUID  Label  View  \\\n",
       "0  DBT-P01013  DBT-S00665      0   lcc   \n",
       "1  DBT-P01013  DBT-S00665      0  lmlo   \n",
       "2  DBT-P01013  DBT-S00665      0   rcc   \n",
       "3  DBT-P01013  DBT-S00665      0  rmlo   \n",
       "4  DBT-P04493  DBT-S02147      0   lcc   \n",
       "\n",
       "                                    descriptive_path  \\\n",
       "0  Breast-Cancer-Screening-DBT/DBT-P01013/01-01-2...   \n",
       "1  Breast-Cancer-Screening-DBT/DBT-P01013/01-01-2...   \n",
       "2  Breast-Cancer-Screening-DBT/DBT-P01013/01-01-2...   \n",
       "3  Breast-Cancer-Screening-DBT/DBT-P01013/01-01-2...   \n",
       "4  Breast-Cancer-Screening-DBT/DBT-P04493/01-01-2...   \n",
       "\n",
       "                                        classic_path  \n",
       "0  Breast-Cancer-Screening-DBT/DBT-P01013/1.2.826...  \n",
       "1  Breast-Cancer-Screening-DBT/DBT-P01013/1.2.826...  \n",
       "2  Breast-Cancer-Screening-DBT/DBT-P01013/1.2.826...  \n",
       "3  Breast-Cancer-Screening-DBT/DBT-P01013/1.2.826...  \n",
       "4  Breast-Cancer-Screening-DBT/DBT-P04493/1.2.826...  "
      ]
     },
     "execution_count": 2,
     "metadata": {},
     "output_type": "execute_result"
    }
   ],
   "source": [
    "df = pd.read_csv('DBT_train.csv')\n",
    "df.head()"
   ]
  },
  {
   "cell_type": "code",
   "execution_count": 3,
   "metadata": {},
   "outputs": [
    {
     "data": {
      "text/plain": [
       "0    12760\n",
       "1      500\n",
       "Name: Label, dtype: int64"
      ]
     },
     "execution_count": 3,
     "metadata": {},
     "output_type": "execute_result"
    }
   ],
   "source": [
    "df['Label'].value_counts()"
   ]
  },
  {
   "cell_type": "code",
   "execution_count": 4,
   "metadata": {},
   "outputs": [
    {
     "name": "stdout",
     "output_type": "stream",
     "text": [
      "500\n",
      "12760\n"
     ]
    }
   ],
   "source": [
    "positive = df[df['Label']==1]\n",
    "negative = df[df['Label']==0]\n",
    "print(len(positive))\n",
    "print(len(negative))"
   ]
  },
  {
   "cell_type": "code",
   "execution_count": 5,
   "metadata": {},
   "outputs": [
    {
     "name": "stdout",
     "output_type": "stream",
     "text": [
      "Proportion of positive labels: 0.03770739064856712\n"
     ]
    }
   ],
   "source": [
    "prop_positive = len(positive) / len(df)\n",
    "print('Proportion of positive labels:', prop_positive)"
   ]
  },
  {
   "cell_type": "code",
   "execution_count": 6,
   "metadata": {},
   "outputs": [
    {
     "name": "stdout",
     "output_type": "stream",
     "text": [
      "Total number of examples: 132\n",
      "Number of positive examples: 4\n",
      "Number of negative examples: 128\n"
     ]
    }
   ],
   "source": [
    "len_100 = int(len(df) / 100)\n",
    "pos_100 = int(len_100 * prop_positive)\n",
    "neg_100 = len_100 - pos_100\n",
    "print('Total number of examples:', len_100)\n",
    "print('Number of positive examples:', pos_100)\n",
    "print('Number of negative examples:', neg_100)\n",
    "\n",
    "df_100_pos = positive.sample(n=pos_100, random_state=0)\n",
    "df_100_neg = negative.sample(n=neg_100, random_state=0)\n",
    "df_100 = pd.concat([df_100_pos, df_100_neg])\n",
    "df_100.to_csv('DBT_train_100.csv')"
   ]
  },
  {
   "cell_type": "code",
   "execution_count": 7,
   "metadata": {},
   "outputs": [
    {
     "name": "stdout",
     "output_type": "stream",
     "text": [
      "Total number of examples: 265\n",
      "Number of positive examples: 9\n",
      "Number of negative examples: 256\n"
     ]
    }
   ],
   "source": [
    "len_50 = int(len(df) / 50)\n",
    "pos_50 = int(len_50 * prop_positive)\n",
    "neg_50 = len_50 - pos_50\n",
    "print('Total number of examples:', len_50)\n",
    "print('Number of positive examples:', pos_50)\n",
    "print('Number of negative examples:', neg_50)\n",
    "\n",
    "df_50_pos = positive.sample(n=pos_50, random_state=0)\n",
    "df_50_neg = negative.sample(n=neg_50, random_state=0)\n",
    "df_50 = pd.concat([df_50_pos, df_50_neg])\n",
    "df_50.to_csv('DBT_train_50.csv')"
   ]
  },
  {
   "cell_type": "code",
   "execution_count": 8,
   "metadata": {},
   "outputs": [
    {
     "name": "stdout",
     "output_type": "stream",
     "text": [
      "Total number of examples: 663\n",
      "Number of positive examples: 25\n",
      "Number of negative examples: 638\n"
     ]
    }
   ],
   "source": [
    "len_20 = int(len(df) / 20)\n",
    "pos_20 = int(len_20 * prop_positive)\n",
    "neg_20 = len_20 - pos_20\n",
    "print('Total number of examples:', len_20)\n",
    "print('Number of positive examples:', pos_20)\n",
    "print('Number of negative examples:', neg_20)\n",
    "\n",
    "df_20_pos = positive.sample(n=pos_20, random_state=0)\n",
    "df_20_neg = negative.sample(n=neg_20, random_state=0)\n",
    "df_20 = pd.concat([df_20_pos, df_20_neg])\n",
    "df_20.to_csv('DBT_train_20.csv')"
   ]
  },
  {
   "cell_type": "code",
   "execution_count": 9,
   "metadata": {},
   "outputs": [
    {
     "name": "stdout",
     "output_type": "stream",
     "text": [
      "Total number of examples: 1326\n",
      "Number of positive examples: 50\n",
      "Number of negative examples: 1276\n"
     ]
    }
   ],
   "source": [
    "len_10 = int(len(df) / 10)\n",
    "pos_10 = int(len_10 * prop_positive)\n",
    "neg_10 = len_10 - pos_10\n",
    "print('Total number of examples:', len_10)\n",
    "print('Number of positive examples:', pos_10)\n",
    "print('Number of negative examples:', neg_10)\n",
    "\n",
    "df_10_pos = positive.sample(n=pos_10, random_state=0)\n",
    "df_10_neg = negative.sample(n=neg_10, random_state=0)\n",
    "df_10 = pd.concat([df_10_pos, df_10_neg])\n",
    "df_10.to_csv('DBT_train_10.csv')"
   ]
  },
  {
   "cell_type": "code",
   "execution_count": 10,
   "metadata": {},
   "outputs": [
    {
     "name": "stdout",
     "output_type": "stream",
     "text": [
      "Total number of examples: 2652\n",
      "Number of positive examples: 100\n",
      "Number of negative examples: 2552\n"
     ]
    }
   ],
   "source": [
    "len_5 = int(len(df) / 5)\n",
    "pos_5 = int(len_5 * prop_positive)\n",
    "neg_5 = len_5 - pos_5\n",
    "print('Total number of examples:', len_5)\n",
    "print('Number of positive examples:', pos_5)\n",
    "print('Number of negative examples:', neg_5)\n",
    "\n",
    "df_5_pos = positive.sample(n=pos_5, random_state=0)\n",
    "df_5_neg = negative.sample(n=neg_5, random_state=0)\n",
    "df_5 = pd.concat([df_5_pos, df_5_neg])\n",
    "df_5.to_csv('DBT_train_5.csv')"
   ]
  },
  {
   "cell_type": "code",
   "execution_count": 11,
   "metadata": {},
   "outputs": [
    {
     "name": "stdout",
     "output_type": "stream",
     "text": [
      "Total number of examples: 6630\n",
      "Number of positive examples: 250\n",
      "Number of negative examples: 6380\n"
     ]
    }
   ],
   "source": [
    "len_2 = int(len(df) / 2)\n",
    "pos_2 = int(len_2 * prop_positive)\n",
    "neg_2 = len_2 - pos_2\n",
    "print('Total number of examples:', len_2)\n",
    "print('Number of positive examples:', pos_2)\n",
    "print('Number of negative examples:', neg_2)\n",
    "\n",
    "df_2_pos = positive.sample(n=pos_2, random_state=0)\n",
    "df_2_neg = negative.sample(n=neg_2, random_state=0)\n",
    "df_2 = pd.concat([df_2_pos, df_2_neg])\n",
    "df_2.to_csv('DBT_train_2.csv')"
   ]
  },
  {
   "cell_type": "code",
   "execution_count": null,
   "metadata": {},
   "outputs": [],
   "source": []
  }
 ],
 "metadata": {
  "kernelspec": {
   "display_name": "Python 3",
   "language": "python",
   "name": "python3"
  },
  "language_info": {
   "codemirror_mode": {
    "name": "ipython",
    "version": 3
   },
   "file_extension": ".py",
   "mimetype": "text/x-python",
   "name": "python",
   "nbconvert_exporter": "python",
   "pygments_lexer": "ipython3",
   "version": "3.7.4"
  }
 },
 "nbformat": 4,
 "nbformat_minor": 2
}
